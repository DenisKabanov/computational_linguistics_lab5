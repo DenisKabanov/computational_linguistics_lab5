{
  "cells": [
    {
      "cell_type": "code",
      "execution_count": null,
      "metadata": {
        "id": "FJ3uCqtgmUi5"
      },
      "outputs": [],
      "source": [
        "import sys\n",
        "# !{sys.executable} -m pip install datasets\n",
        "# !{sys.executable} -m pip install transformers"
      ]
    },
    {
      "cell_type": "code",
      "execution_count": 3,
      "metadata": {
        "colab": {
          "base_uri": "https://localhost:8080/"
        },
        "id": "IVYT1V8nmUiy",
        "outputId": "44414a77-6831-4ebd-b135-4972806f1616"
      },
      "outputs": [
        {
          "output_type": "stream",
          "name": "stdout",
          "text": [
            "4.27.3\n"
          ]
        }
      ],
      "source": [
        "import pandas as pd\n",
        "import numpy as np\n",
        "import matplotlib.pyplot as plt\n",
        "import os\n",
        "from tqdm import tqdm\n",
        "import pickle\n",
        "import re\n",
        "from sklearn.model_selection import train_test_split\n",
        "from sklearn.metrics import f1_score, accuracy_score, precision_score, recall_score\n",
        "from transformers import AutoTokenizer\n",
        "from transformers import AutoModelForSequenceClassification\n",
        "from transformers import TrainingArguments, Trainer\n",
        "from transformers import EvalPrediction\n",
        "import torch\n",
        "import datasets\n",
        "from datasets import Dataset\n",
        "\n",
        "import warnings\n",
        "import transformers\n",
        "\n",
        "warnings.filterwarnings('ignore')\n",
        "print(transformers.__version__)\n",
        "torch.set_printoptions(profile=\"full\")"
      ]
    },
    {
      "cell_type": "code",
      "execution_count": 11,
      "metadata": {
        "colab": {
          "base_uri": "https://localhost:8080/"
        },
        "id": "UJL92IH2m3UY",
        "outputId": "916af3c4-4ced-42ab-e3a4-f02b38110ed1"
      },
      "outputs": [
        {
          "output_type": "stream",
          "name": "stdout",
          "text": [
            "Mounted at /content/drive\n"
          ]
        }
      ],
      "source": [
        "# from google.colab import drive\n",
        "# drive.mount('/content/drive')"
      ]
    },
    {
      "cell_type": "markdown",
      "source": [
        "# Подготовка датасета"
      ],
      "metadata": {
        "id": "Nc25E5ddV-Kz"
      }
    },
    {
      "cell_type": "code",
      "execution_count": null,
      "metadata": {
        "id": "CVnTJVwbmUi7"
      },
      "outputs": [],
      "source": [
        "# dataset_path = 'topics'\n",
        "# topic_names = ['text']\n",
        "# for x in os.listdir(dataset_path):\n",
        "#     topic_names.append(x)\n",
        "# topic_names"
      ]
    },
    {
      "cell_type": "markdown",
      "metadata": {
        "id": "0LPhLr-KmUjM"
      },
      "source": [
        "Обработка датасета"
      ]
    },
    {
      "cell_type": "code",
      "execution_count": null,
      "metadata": {
        "id": "DtKltdENmUi-",
        "outputId": "8071b191-4843-44f8-973d-9cf988883bd4"
      },
      "outputs": [
        {
          "name": "stderr",
          "output_type": "stream",
          "text": [
            "100%|██████████| 144/144 [2:31:58<00:00, 63.32s/it] \n"
          ]
        }
      ],
      "source": [
        "# dataset = pd.DataFrame(columns=topic_names)\n",
        "# for topic in tqdm(os.listdir(dataset_path)):\n",
        "#     for file in os.listdir(f'{dataset_path}/{topic}'):\n",
        "#         with open(f'{dataset_path}/{topic}/{file}', encoding = 'utf-8') as f:\n",
        "#             str = f.read()\n",
        "#             index = dataset.index[dataset['text'] == str]\n",
        "#             if index.size != 0:  #  если текст есть в датасете\n",
        "#                 dataset[topic][index] = 1\n",
        "#             else:   # если текст отсутствует в датасете\n",
        "#                 dataset = dataset.append({'text': str, topic: 1}, ignore_index=True)"
      ]
    },
    {
      "cell_type": "code",
      "execution_count": null,
      "metadata": {
        "id": "2uG3KP34mUjC",
        "outputId": "0d08910b-3a08-4db9-9654-132e78c25e3e"
      },
      "outputs": [
        {
          "data": {
            "text/html": [
              "<div>\n",
              "<style scoped>\n",
              "    .dataframe tbody tr th:only-of-type {\n",
              "        vertical-align: middle;\n",
              "    }\n",
              "\n",
              "    .dataframe tbody tr th {\n",
              "        vertical-align: top;\n",
              "    }\n",
              "\n",
              "    .dataframe thead th {\n",
              "        text-align: right;\n",
              "    }\n",
              "</style>\n",
              "<table border=\"1\" class=\"dataframe\">\n",
              "  <thead>\n",
              "    <tr style=\"text-align: right;\">\n",
              "      <th></th>\n",
              "      <th>text</th>\n",
              "      <th>passion</th>\n",
              "      <th>daughter</th>\n",
              "      <th>weather</th>\n",
              "      <th>animal</th>\n",
              "      <th>sea</th>\n",
              "      <th>innocence</th>\n",
              "      <th>change</th>\n",
              "      <th>angel</th>\n",
              "      <th>brother</th>\n",
              "      <th>...</th>\n",
              "      <th>freedom</th>\n",
              "      <th>dark</th>\n",
              "      <th>hate</th>\n",
              "      <th>music</th>\n",
              "      <th>warning</th>\n",
              "      <th>teacher</th>\n",
              "      <th>peace</th>\n",
              "      <th>chicago</th>\n",
              "      <th>butterfly</th>\n",
              "      <th>murder</th>\n",
              "    </tr>\n",
              "  </thead>\n",
              "  <tbody>\n",
              "    <tr>\n",
              "      <th>0</th>\n",
              "      <td>Your passion is permanently etched on my soul,...</td>\n",
              "      <td>1</td>\n",
              "      <td>0</td>\n",
              "      <td>0</td>\n",
              "      <td>0</td>\n",
              "      <td>0</td>\n",
              "      <td>0</td>\n",
              "      <td>0</td>\n",
              "      <td>0</td>\n",
              "      <td>0</td>\n",
              "      <td>...</td>\n",
              "      <td>0</td>\n",
              "      <td>0</td>\n",
              "      <td>0</td>\n",
              "      <td>0</td>\n",
              "      <td>0</td>\n",
              "      <td>0</td>\n",
              "      <td>0</td>\n",
              "      <td>0</td>\n",
              "      <td>0</td>\n",
              "      <td>0</td>\n",
              "    </tr>\n",
              "    <tr>\n",
              "      <th>1</th>\n",
              "      <td>When man had ceased to utter his lament, A god...</td>\n",
              "      <td>1</td>\n",
              "      <td>0</td>\n",
              "      <td>0</td>\n",
              "      <td>0</td>\n",
              "      <td>0</td>\n",
              "      <td>0</td>\n",
              "      <td>0</td>\n",
              "      <td>0</td>\n",
              "      <td>0</td>\n",
              "      <td>...</td>\n",
              "      <td>0</td>\n",
              "      <td>0</td>\n",
              "      <td>0</td>\n",
              "      <td>0</td>\n",
              "      <td>0</td>\n",
              "      <td>0</td>\n",
              "      <td>0</td>\n",
              "      <td>0</td>\n",
              "      <td>0</td>\n",
              "      <td>0</td>\n",
              "    </tr>\n",
              "    <tr>\n",
              "      <th>2</th>\n",
              "      <td>O Gentle Love, ungentle for thy deed, Thou mak...</td>\n",
              "      <td>1</td>\n",
              "      <td>0</td>\n",
              "      <td>0</td>\n",
              "      <td>0</td>\n",
              "      <td>0</td>\n",
              "      <td>0</td>\n",
              "      <td>0</td>\n",
              "      <td>0</td>\n",
              "      <td>0</td>\n",
              "      <td>...</td>\n",
              "      <td>0</td>\n",
              "      <td>0</td>\n",
              "      <td>0</td>\n",
              "      <td>0</td>\n",
              "      <td>0</td>\n",
              "      <td>0</td>\n",
              "      <td>0</td>\n",
              "      <td>0</td>\n",
              "      <td>0</td>\n",
              "      <td>0</td>\n",
              "    </tr>\n",
              "    <tr>\n",
              "      <th>3</th>\n",
              "      <td>PASSION TOUCHED HER LIPS Passion touched her l...</td>\n",
              "      <td>1</td>\n",
              "      <td>0</td>\n",
              "      <td>0</td>\n",
              "      <td>0</td>\n",
              "      <td>0</td>\n",
              "      <td>0</td>\n",
              "      <td>0</td>\n",
              "      <td>0</td>\n",
              "      <td>0</td>\n",
              "      <td>...</td>\n",
              "      <td>0</td>\n",
              "      <td>0</td>\n",
              "      <td>0</td>\n",
              "      <td>0</td>\n",
              "      <td>0</td>\n",
              "      <td>0</td>\n",
              "      <td>0</td>\n",
              "      <td>0</td>\n",
              "      <td>0</td>\n",
              "      <td>0</td>\n",
              "    </tr>\n",
              "    <tr>\n",
              "      <th>4</th>\n",
              "      <td>You eclipse me &amp; I have stained the Sun with b...</td>\n",
              "      <td>1</td>\n",
              "      <td>0</td>\n",
              "      <td>0</td>\n",
              "      <td>0</td>\n",
              "      <td>0</td>\n",
              "      <td>0</td>\n",
              "      <td>0</td>\n",
              "      <td>0</td>\n",
              "      <td>0</td>\n",
              "      <td>...</td>\n",
              "      <td>0</td>\n",
              "      <td>0</td>\n",
              "      <td>0</td>\n",
              "      <td>0</td>\n",
              "      <td>0</td>\n",
              "      <td>0</td>\n",
              "      <td>0</td>\n",
              "      <td>0</td>\n",
              "      <td>0</td>\n",
              "      <td>0</td>\n",
              "    </tr>\n",
              "    <tr>\n",
              "      <th>...</th>\n",
              "      <td>...</td>\n",
              "      <td>...</td>\n",
              "      <td>...</td>\n",
              "      <td>...</td>\n",
              "      <td>...</td>\n",
              "      <td>...</td>\n",
              "      <td>...</td>\n",
              "      <td>...</td>\n",
              "      <td>...</td>\n",
              "      <td>...</td>\n",
              "      <td>...</td>\n",
              "      <td>...</td>\n",
              "      <td>...</td>\n",
              "      <td>...</td>\n",
              "      <td>...</td>\n",
              "      <td>...</td>\n",
              "      <td>...</td>\n",
              "      <td>...</td>\n",
              "      <td>...</td>\n",
              "      <td>...</td>\n",
              "      <td>...</td>\n",
              "    </tr>\n",
              "    <tr>\n",
              "      <th>13731</th>\n",
              "      <td>Violence is nobody s leaven. Murder will not g...</td>\n",
              "      <td>0</td>\n",
              "      <td>0</td>\n",
              "      <td>0</td>\n",
              "      <td>0</td>\n",
              "      <td>0</td>\n",
              "      <td>0</td>\n",
              "      <td>0</td>\n",
              "      <td>0</td>\n",
              "      <td>0</td>\n",
              "      <td>...</td>\n",
              "      <td>0</td>\n",
              "      <td>0</td>\n",
              "      <td>0</td>\n",
              "      <td>0</td>\n",
              "      <td>0</td>\n",
              "      <td>0</td>\n",
              "      <td>0</td>\n",
              "      <td>0</td>\n",
              "      <td>0</td>\n",
              "      <td>1</td>\n",
              "    </tr>\n",
              "    <tr>\n",
              "      <th>13732</th>\n",
              "      <td>St. Patrick s Church was sparsely filled For F...</td>\n",
              "      <td>0</td>\n",
              "      <td>0</td>\n",
              "      <td>0</td>\n",
              "      <td>0</td>\n",
              "      <td>0</td>\n",
              "      <td>0</td>\n",
              "      <td>0</td>\n",
              "      <td>0</td>\n",
              "      <td>0</td>\n",
              "      <td>...</td>\n",
              "      <td>0</td>\n",
              "      <td>0</td>\n",
              "      <td>0</td>\n",
              "      <td>0</td>\n",
              "      <td>0</td>\n",
              "      <td>0</td>\n",
              "      <td>0</td>\n",
              "      <td>0</td>\n",
              "      <td>0</td>\n",
              "      <td>1</td>\n",
              "    </tr>\n",
              "    <tr>\n",
              "      <th>13733</th>\n",
              "      <td>No one sleeps more beautifully than you. But I...</td>\n",
              "      <td>0</td>\n",
              "      <td>0</td>\n",
              "      <td>0</td>\n",
              "      <td>0</td>\n",
              "      <td>0</td>\n",
              "      <td>0</td>\n",
              "      <td>0</td>\n",
              "      <td>0</td>\n",
              "      <td>0</td>\n",
              "      <td>...</td>\n",
              "      <td>0</td>\n",
              "      <td>0</td>\n",
              "      <td>0</td>\n",
              "      <td>0</td>\n",
              "      <td>0</td>\n",
              "      <td>0</td>\n",
              "      <td>0</td>\n",
              "      <td>0</td>\n",
              "      <td>0</td>\n",
              "      <td>1</td>\n",
              "    </tr>\n",
              "    <tr>\n",
              "      <th>13734</th>\n",
              "      <td>Pastor in the pulpit, the Sanctuary, supposedl...</td>\n",
              "      <td>0</td>\n",
              "      <td>0</td>\n",
              "      <td>0</td>\n",
              "      <td>0</td>\n",
              "      <td>0</td>\n",
              "      <td>0</td>\n",
              "      <td>0</td>\n",
              "      <td>0</td>\n",
              "      <td>0</td>\n",
              "      <td>...</td>\n",
              "      <td>0</td>\n",
              "      <td>0</td>\n",
              "      <td>0</td>\n",
              "      <td>0</td>\n",
              "      <td>0</td>\n",
              "      <td>0</td>\n",
              "      <td>0</td>\n",
              "      <td>0</td>\n",
              "      <td>0</td>\n",
              "      <td>1</td>\n",
              "    </tr>\n",
              "    <tr>\n",
              "      <th>13735</th>\n",
              "      <td>Murder the great sin That commits only by huma...</td>\n",
              "      <td>0</td>\n",
              "      <td>0</td>\n",
              "      <td>0</td>\n",
              "      <td>0</td>\n",
              "      <td>0</td>\n",
              "      <td>0</td>\n",
              "      <td>0</td>\n",
              "      <td>0</td>\n",
              "      <td>0</td>\n",
              "      <td>...</td>\n",
              "      <td>0</td>\n",
              "      <td>0</td>\n",
              "      <td>0</td>\n",
              "      <td>0</td>\n",
              "      <td>0</td>\n",
              "      <td>0</td>\n",
              "      <td>0</td>\n",
              "      <td>0</td>\n",
              "      <td>0</td>\n",
              "      <td>1</td>\n",
              "    </tr>\n",
              "  </tbody>\n",
              "</table>\n",
              "<p>13736 rows × 145 columns</p>\n",
              "</div>"
            ],
            "text/plain": [
              "                                                    text  passion  daughter  \\\n",
              "0      Your passion is permanently etched on my soul,...        1         0   \n",
              "1      When man had ceased to utter his lament, A god...        1         0   \n",
              "2      O Gentle Love, ungentle for thy deed, Thou mak...        1         0   \n",
              "3      PASSION TOUCHED HER LIPS Passion touched her l...        1         0   \n",
              "4      You eclipse me & I have stained the Sun with b...        1         0   \n",
              "...                                                  ...      ...       ...   \n",
              "13731  Violence is nobody s leaven. Murder will not g...        0         0   \n",
              "13732  St. Patrick s Church was sparsely filled For F...        0         0   \n",
              "13733  No one sleeps more beautifully than you. But I...        0         0   \n",
              "13734  Pastor in the pulpit, the Sanctuary, supposedl...        0         0   \n",
              "13735  Murder the great sin That commits only by huma...        0         0   \n",
              "\n",
              "       weather  animal  sea  innocence  change  angel  brother  ...  freedom  \\\n",
              "0            0       0    0          0       0      0        0  ...        0   \n",
              "1            0       0    0          0       0      0        0  ...        0   \n",
              "2            0       0    0          0       0      0        0  ...        0   \n",
              "3            0       0    0          0       0      0        0  ...        0   \n",
              "4            0       0    0          0       0      0        0  ...        0   \n",
              "...        ...     ...  ...        ...     ...    ...      ...  ...      ...   \n",
              "13731        0       0    0          0       0      0        0  ...        0   \n",
              "13732        0       0    0          0       0      0        0  ...        0   \n",
              "13733        0       0    0          0       0      0        0  ...        0   \n",
              "13734        0       0    0          0       0      0        0  ...        0   \n",
              "13735        0       0    0          0       0      0        0  ...        0   \n",
              "\n",
              "       dark  hate  music  warning  teacher  peace  chicago  butterfly  murder  \n",
              "0         0     0      0        0        0      0        0          0       0  \n",
              "1         0     0      0        0        0      0        0          0       0  \n",
              "2         0     0      0        0        0      0        0          0       0  \n",
              "3         0     0      0        0        0      0        0          0       0  \n",
              "4         0     0      0        0        0      0        0          0       0  \n",
              "...     ...   ...    ...      ...      ...    ...      ...        ...     ...  \n",
              "13731     0     0      0        0        0      0        0          0       1  \n",
              "13732     0     0      0        0        0      0        0          0       1  \n",
              "13733     0     0      0        0        0      0        0          0       1  \n",
              "13734     0     0      0        0        0      0        0          0       1  \n",
              "13735     0     0      0        0        0      0        0          0       1  \n",
              "\n",
              "[13736 rows x 145 columns]"
            ]
          },
          "execution_count": 24,
          "metadata": {},
          "output_type": "execute_result"
        }
      ],
      "source": [
        "# dataset = dataset.fillna(0)\n",
        "# dataset"
      ]
    },
    {
      "cell_type": "code",
      "execution_count": null,
      "metadata": {
        "id": "VYF6tM3umUjM"
      },
      "outputs": [],
      "source": [
        "# EXCLUDE_SYMBOLS_STR = u''.join(['№', '«', 'ђ', '°', '±', 'ћ', '‰', '»', 'ѓ', 'µ', '·', 'ґ', 'њ', 'ї', 'џ', 'є', '‹',\n",
        "#                                 '‡', '†', '¶', 'ќ', '€', '“', 'ў', '§', '„', '”', '\\ufeff', 'љ', '›', '•', '—', \n",
        "#                                 '\\x7f', '\\xad', '¤', '\\xa0', '\\u200e', 'Š', 'ō', 'ä', '™', '×', '\\'', '~'])\n",
        "\n",
        "# regex_symb = re.compile('[%s]' % re.escape(EXCLUDE_SYMBOLS_STR))\n",
        "\n",
        "# for row in range(dataset.shape[0]):\n",
        "#     dataset[\"text\"][row] = regex_symb.sub(' ',  dataset[\"text\"][row]) # убираем дополнительные символы\n",
        "#     dataset[\"text\"][row] = dataset[\"text\"][row].replace(\"\\n\", \" \") # убираем \\n\n",
        "#     dataset[\"text\"][row] = re.sub(' +', ' ', dataset[\"text\"][row]) # оставляем максимум 1 пробел\n",
        "#     dataset[\"text\"][row] = dataset[\"text\"][row].strip() # удаляем лишние пробелы в начале и конце статей\n",
        "    "
      ]
    },
    {
      "cell_type": "markdown",
      "source": [
        "Сохранение датасета"
      ],
      "metadata": {
        "id": "jVyy9haUSXZz"
      }
    },
    {
      "cell_type": "code",
      "execution_count": null,
      "metadata": {
        "id": "3jeHtMGBmUjN"
      },
      "outputs": [],
      "source": [
        "with open(r'dataset_processed.pkl', 'wb') as f:\n",
        "# with open(r'/content/drive/MyDrive/Универ/dataset_processed.pkl', 'wb') as f:\n",
        "    pickle.dump(dataset, f)"
      ]
    },
    {
      "cell_type": "markdown",
      "source": [
        "Загрузка датасета"
      ],
      "metadata": {
        "id": "jVHQT1JlScxc"
      }
    },
    {
      "cell_type": "code",
      "execution_count": 12,
      "metadata": {
        "id": "k3pQT_linCtb"
      },
      "outputs": [],
      "source": [
        "with open(r'dataset_processed.pkl', 'rb') as f:\n",
        "# with open(r'/content/drive/MyDrive/Универ/dataset_processed.pkl', 'rb') as f:\n",
        "    dataset = pickle.load(f)"
      ]
    },
    {
      "cell_type": "code",
      "execution_count": 13,
      "metadata": {
        "colab": {
          "base_uri": "https://localhost:8080/",
          "height": 125
        },
        "id": "ZsCP0Ca1mUjO",
        "outputId": "2330ff6f-6bd7-44db-cb76-451eb8505dac"
      },
      "outputs": [
        {
          "output_type": "execute_result",
          "data": {
            "text/plain": [
              "'When man had ceased to utter his lament, A god then let me tell my tale of sorrow. WHAT hope of once more meeting is there now In the still-closed blossoms of this day? Both heaven and hell thrown open seest thou; What wav ring thoughts within the bosom play No longer doubt! Descending from the sky, She lifts thee in her arms to realms on high. And thus thou into Paradise wert brought, As worthy of a pure and endless life; Nothing was left, no wish, no hope, no thought, Here was the boundary of thine inmost strife: And seeing one so fair, so glorified, The fount of yearning tears was straightway dried. No motion stirr d the day s revolving wheel, In their own front the minutes seem d to go; The evening kiss, a true and binding seal, Ne er changing till the morrow s sunlight glow. The hours resembled sisters as they went. Yet each one from another different. The last hour s kiss, so sadly sweet, effac d A beauteous network of entwining love. Now on the threshold pause the feet, now haste. As though a flaming cherub bade them move; The unwilling eye the dark road wanders o er, Backward it looks, but closed it sees the door. And now within itself is closed this breast, As though it ne er were open, and as though, Vying with ev ry star, no moments blest Had, in its presence, felt a kindling glow; Sadness, reproach, repentance, weight of care, Hang heavy on it in the sultry air. Is not the world still left? The rocky steeps, Are they with holy shades no longer crown d? Grows not the harvest ripe? No longer creeps The espalier by the stream,--the copse around? Doth not the wondrous arch of heaven still rise, Now rich in shape, now shapeless to the eyes? As, seraph-like, from out the dark clouds chorus, With softness woven, graceful, light, and fair, Resembling Her, in the blue aether o er us, A slender figure hovers in the air,-- Thus didst thou see her joyously advance, The fairest of the fairest in the dance. Yet but a moment dost thou boldly dare To clasp an airy form instead of hers; Back to thine heart! thou lt find it better there, For there in changeful guise her image stirs What erst was one, to many turneth fast, In thousand forms, each dearer than the last. As at the door, on meeting lingerd she, And step by step my faithful ardour bless d, For the last kiss herself entreated me, And on my lips the last last kiss impress d,-- Thus clearly traced, the lov d one s form we view, With flames engraven on a heart so true,-- A heart that, firm as some embattled tower, Itself for her, her in itself reveres, For her rejoices in its lasting power, Conscious alone, when she herself appears; Feels itself freer in so sweet a thrall, And only beats to give her thanks in all. The power of loving, and all yearning sighs For love responsive were effaced and drown d; While longing hope for joyous enterprise Was form d, and rapid action straightway found; If love can e er a loving one inspire, Most lovingly it gave me now its fire; And twas through her!--an inward sorrow lay On soul and body, heavily oppress d; To mournful phantoms was my sight a prey, In the drear void of a sad tortured breast; Now on the well-known threshold Hope hath smil d, Herself appeareth in the sunlight mild. Unto the peace of God, which, as we read, Blesseth us more than reason e er bath done, Love s happy peace would I compare indeed, When in the presence of the dearest one. There rests the heart, and there that sweetest thought, The thought of being hers, is check d by nought. In the pure bosom doth a yearning float, Unto a holier, purer, unknown Being Its grateful aspiration to devote, The Ever-Nameless then unriddled seeing; We call it: piety!--such blest delight I feel a share in, when before her sight. Before her sight, as neath the sun s hot ray, Before her breath, as neath the spring s soft wind, In its deep wintry cavern melts away Self-love, so long in icy chains confin d; No selfishness and no self-will are nigh, For at her advent they were forced to fly. It seems as though she said: \"As hours pass by They spread before us life with kindly plan; Small knowledge did the yesterday supply, To know the morrow is conceal d from man; And if the thought of evening made me start, The sun at setting gladden d straight my heart. \"Act, then, as I, and look, with joyous mind, The moment in the face; nor linger thou! Meet it with speed, so fraught with life, so kind In action, and in love so radiant now; Let all things be where thou art, childlike ever, Thus thoult be all, thus, thou lt be vanquish d never.\" Thou speakest well, methought, for as thy guide The moment s favour did a god assign, And each one feels himself when by thy side, Fate s fav rite in a moment so divine; I tremble at thy look that bids me go, Why should I care such wisdom vast to know? Now am I far! And what would best befit The present minute? I could scarcely tell; Full many a rich possession offers it, These but offend, and I would fain repel. Yearnings unquenchable still drive me on, All counsel, save unbounded tears, is gone. Flow on, flow on in never-ceasing course, Yet may ye never quench my inward fire! Within my bosom heaves a mighty force, Where death and life contend in combat dire. Medicines may serve the body s pangs to still; Nought but the spirit fails in strength of will,-- Fails in conception; wherefore fails it so? A thousand times her image it portrays; Enchanting now, and now compell d to go, Now indistinct, now clothed in purest rays! How could the smallest comfort here be flowing? The ebb and flood, the coming and the going! Leave me here now, my life s companions true! Leave me alone on rock, in moor and heath; But courage! open lies the world to you, The glorious heavens above, the earth beneath; Observe, investigate, with searching eyes, And nature will disclose her mysteries. To me is all, I to myself am lost, Who the immortals fav rite erst was thought; They, tempting, sent Pandoras to my cost, So rich in wealth, with danger far more fraught; They urged me to those lips, with rapture crown d, Deserted me, and hurl d me to the ground.'"
            ],
            "application/vnd.google.colaboratory.intrinsic+json": {
              "type": "string"
            }
          },
          "metadata": {},
          "execution_count": 13
        }
      ],
      "source": [
        "dataset[\"text\"][1]"
      ]
    },
    {
      "cell_type": "code",
      "execution_count": 14,
      "metadata": {
        "colab": {
          "base_uri": "https://localhost:8080/",
          "height": 423
        },
        "id": "ACH7QYljmUjO",
        "outputId": "cf6ac7ad-1b38-4d77-ca4c-e07bd83b6b7d"
      },
      "outputs": [
        {
          "output_type": "execute_result",
          "data": {
            "text/plain": [
              "       passion  daughter  weather  animal  sea  innocence  change  angel  \\\n",
              "0            1         0        0       0    0          0       0      0   \n",
              "1            1         0        0       0    0          0       0      0   \n",
              "2            1         0        0       0    0          0       0      0   \n",
              "3            1         0        0       0    0          0       0      0   \n",
              "4            1         0        0       0    0          0       0      0   \n",
              "...        ...       ...      ...     ...  ...        ...     ...    ...   \n",
              "13731        0         0        0       0    0          0       0      0   \n",
              "13732        0         0        0       0    0          0       0      0   \n",
              "13733        0         0        0       0    0          0       0      0   \n",
              "13734        0         0        0       0    0          0       0      0   \n",
              "13735        0         0        0       0    0          0       0      0   \n",
              "\n",
              "       brother  world  ...  freedom  dark  hate  music  warning  teacher  \\\n",
              "0            0      0  ...        0     0     0      0        0        0   \n",
              "1            0      0  ...        0     0     0      0        0        0   \n",
              "2            0      0  ...        0     0     0      0        0        0   \n",
              "3            0      0  ...        0     0     0      0        0        0   \n",
              "4            0      0  ...        0     0     0      0        0        0   \n",
              "...        ...    ...  ...      ...   ...   ...    ...      ...      ...   \n",
              "13731        0      0  ...        0     0     0      0        0        0   \n",
              "13732        0      0  ...        0     0     0      0        0        0   \n",
              "13733        0      0  ...        0     0     0      0        0        0   \n",
              "13734        0      0  ...        0     0     0      0        0        0   \n",
              "13735        0      0  ...        0     0     0      0        0        0   \n",
              "\n",
              "       peace  chicago  butterfly  murder  \n",
              "0          0        0          0       0  \n",
              "1          0        0          0       0  \n",
              "2          0        0          0       0  \n",
              "3          0        0          0       0  \n",
              "4          0        0          0       0  \n",
              "...      ...      ...        ...     ...  \n",
              "13731      0        0          0       1  \n",
              "13732      0        0          0       1  \n",
              "13733      0        0          0       1  \n",
              "13734      0        0          0       1  \n",
              "13735      0        0          0       1  \n",
              "\n",
              "[13736 rows x 144 columns]"
            ],
            "text/html": [
              "\n",
              "  <div id=\"df-a7dad4d5-9a3c-4ce3-84a5-39c3a6e17195\">\n",
              "    <div class=\"colab-df-container\">\n",
              "      <div>\n",
              "<style scoped>\n",
              "    .dataframe tbody tr th:only-of-type {\n",
              "        vertical-align: middle;\n",
              "    }\n",
              "\n",
              "    .dataframe tbody tr th {\n",
              "        vertical-align: top;\n",
              "    }\n",
              "\n",
              "    .dataframe thead th {\n",
              "        text-align: right;\n",
              "    }\n",
              "</style>\n",
              "<table border=\"1\" class=\"dataframe\">\n",
              "  <thead>\n",
              "    <tr style=\"text-align: right;\">\n",
              "      <th></th>\n",
              "      <th>passion</th>\n",
              "      <th>daughter</th>\n",
              "      <th>weather</th>\n",
              "      <th>animal</th>\n",
              "      <th>sea</th>\n",
              "      <th>innocence</th>\n",
              "      <th>change</th>\n",
              "      <th>angel</th>\n",
              "      <th>brother</th>\n",
              "      <th>world</th>\n",
              "      <th>...</th>\n",
              "      <th>freedom</th>\n",
              "      <th>dark</th>\n",
              "      <th>hate</th>\n",
              "      <th>music</th>\n",
              "      <th>warning</th>\n",
              "      <th>teacher</th>\n",
              "      <th>peace</th>\n",
              "      <th>chicago</th>\n",
              "      <th>butterfly</th>\n",
              "      <th>murder</th>\n",
              "    </tr>\n",
              "  </thead>\n",
              "  <tbody>\n",
              "    <tr>\n",
              "      <th>0</th>\n",
              "      <td>1</td>\n",
              "      <td>0</td>\n",
              "      <td>0</td>\n",
              "      <td>0</td>\n",
              "      <td>0</td>\n",
              "      <td>0</td>\n",
              "      <td>0</td>\n",
              "      <td>0</td>\n",
              "      <td>0</td>\n",
              "      <td>0</td>\n",
              "      <td>...</td>\n",
              "      <td>0</td>\n",
              "      <td>0</td>\n",
              "      <td>0</td>\n",
              "      <td>0</td>\n",
              "      <td>0</td>\n",
              "      <td>0</td>\n",
              "      <td>0</td>\n",
              "      <td>0</td>\n",
              "      <td>0</td>\n",
              "      <td>0</td>\n",
              "    </tr>\n",
              "    <tr>\n",
              "      <th>1</th>\n",
              "      <td>1</td>\n",
              "      <td>0</td>\n",
              "      <td>0</td>\n",
              "      <td>0</td>\n",
              "      <td>0</td>\n",
              "      <td>0</td>\n",
              "      <td>0</td>\n",
              "      <td>0</td>\n",
              "      <td>0</td>\n",
              "      <td>0</td>\n",
              "      <td>...</td>\n",
              "      <td>0</td>\n",
              "      <td>0</td>\n",
              "      <td>0</td>\n",
              "      <td>0</td>\n",
              "      <td>0</td>\n",
              "      <td>0</td>\n",
              "      <td>0</td>\n",
              "      <td>0</td>\n",
              "      <td>0</td>\n",
              "      <td>0</td>\n",
              "    </tr>\n",
              "    <tr>\n",
              "      <th>2</th>\n",
              "      <td>1</td>\n",
              "      <td>0</td>\n",
              "      <td>0</td>\n",
              "      <td>0</td>\n",
              "      <td>0</td>\n",
              "      <td>0</td>\n",
              "      <td>0</td>\n",
              "      <td>0</td>\n",
              "      <td>0</td>\n",
              "      <td>0</td>\n",
              "      <td>...</td>\n",
              "      <td>0</td>\n",
              "      <td>0</td>\n",
              "      <td>0</td>\n",
              "      <td>0</td>\n",
              "      <td>0</td>\n",
              "      <td>0</td>\n",
              "      <td>0</td>\n",
              "      <td>0</td>\n",
              "      <td>0</td>\n",
              "      <td>0</td>\n",
              "    </tr>\n",
              "    <tr>\n",
              "      <th>3</th>\n",
              "      <td>1</td>\n",
              "      <td>0</td>\n",
              "      <td>0</td>\n",
              "      <td>0</td>\n",
              "      <td>0</td>\n",
              "      <td>0</td>\n",
              "      <td>0</td>\n",
              "      <td>0</td>\n",
              "      <td>0</td>\n",
              "      <td>0</td>\n",
              "      <td>...</td>\n",
              "      <td>0</td>\n",
              "      <td>0</td>\n",
              "      <td>0</td>\n",
              "      <td>0</td>\n",
              "      <td>0</td>\n",
              "      <td>0</td>\n",
              "      <td>0</td>\n",
              "      <td>0</td>\n",
              "      <td>0</td>\n",
              "      <td>0</td>\n",
              "    </tr>\n",
              "    <tr>\n",
              "      <th>4</th>\n",
              "      <td>1</td>\n",
              "      <td>0</td>\n",
              "      <td>0</td>\n",
              "      <td>0</td>\n",
              "      <td>0</td>\n",
              "      <td>0</td>\n",
              "      <td>0</td>\n",
              "      <td>0</td>\n",
              "      <td>0</td>\n",
              "      <td>0</td>\n",
              "      <td>...</td>\n",
              "      <td>0</td>\n",
              "      <td>0</td>\n",
              "      <td>0</td>\n",
              "      <td>0</td>\n",
              "      <td>0</td>\n",
              "      <td>0</td>\n",
              "      <td>0</td>\n",
              "      <td>0</td>\n",
              "      <td>0</td>\n",
              "      <td>0</td>\n",
              "    </tr>\n",
              "    <tr>\n",
              "      <th>...</th>\n",
              "      <td>...</td>\n",
              "      <td>...</td>\n",
              "      <td>...</td>\n",
              "      <td>...</td>\n",
              "      <td>...</td>\n",
              "      <td>...</td>\n",
              "      <td>...</td>\n",
              "      <td>...</td>\n",
              "      <td>...</td>\n",
              "      <td>...</td>\n",
              "      <td>...</td>\n",
              "      <td>...</td>\n",
              "      <td>...</td>\n",
              "      <td>...</td>\n",
              "      <td>...</td>\n",
              "      <td>...</td>\n",
              "      <td>...</td>\n",
              "      <td>...</td>\n",
              "      <td>...</td>\n",
              "      <td>...</td>\n",
              "      <td>...</td>\n",
              "    </tr>\n",
              "    <tr>\n",
              "      <th>13731</th>\n",
              "      <td>0</td>\n",
              "      <td>0</td>\n",
              "      <td>0</td>\n",
              "      <td>0</td>\n",
              "      <td>0</td>\n",
              "      <td>0</td>\n",
              "      <td>0</td>\n",
              "      <td>0</td>\n",
              "      <td>0</td>\n",
              "      <td>0</td>\n",
              "      <td>...</td>\n",
              "      <td>0</td>\n",
              "      <td>0</td>\n",
              "      <td>0</td>\n",
              "      <td>0</td>\n",
              "      <td>0</td>\n",
              "      <td>0</td>\n",
              "      <td>0</td>\n",
              "      <td>0</td>\n",
              "      <td>0</td>\n",
              "      <td>1</td>\n",
              "    </tr>\n",
              "    <tr>\n",
              "      <th>13732</th>\n",
              "      <td>0</td>\n",
              "      <td>0</td>\n",
              "      <td>0</td>\n",
              "      <td>0</td>\n",
              "      <td>0</td>\n",
              "      <td>0</td>\n",
              "      <td>0</td>\n",
              "      <td>0</td>\n",
              "      <td>0</td>\n",
              "      <td>0</td>\n",
              "      <td>...</td>\n",
              "      <td>0</td>\n",
              "      <td>0</td>\n",
              "      <td>0</td>\n",
              "      <td>0</td>\n",
              "      <td>0</td>\n",
              "      <td>0</td>\n",
              "      <td>0</td>\n",
              "      <td>0</td>\n",
              "      <td>0</td>\n",
              "      <td>1</td>\n",
              "    </tr>\n",
              "    <tr>\n",
              "      <th>13733</th>\n",
              "      <td>0</td>\n",
              "      <td>0</td>\n",
              "      <td>0</td>\n",
              "      <td>0</td>\n",
              "      <td>0</td>\n",
              "      <td>0</td>\n",
              "      <td>0</td>\n",
              "      <td>0</td>\n",
              "      <td>0</td>\n",
              "      <td>0</td>\n",
              "      <td>...</td>\n",
              "      <td>0</td>\n",
              "      <td>0</td>\n",
              "      <td>0</td>\n",
              "      <td>0</td>\n",
              "      <td>0</td>\n",
              "      <td>0</td>\n",
              "      <td>0</td>\n",
              "      <td>0</td>\n",
              "      <td>0</td>\n",
              "      <td>1</td>\n",
              "    </tr>\n",
              "    <tr>\n",
              "      <th>13734</th>\n",
              "      <td>0</td>\n",
              "      <td>0</td>\n",
              "      <td>0</td>\n",
              "      <td>0</td>\n",
              "      <td>0</td>\n",
              "      <td>0</td>\n",
              "      <td>0</td>\n",
              "      <td>0</td>\n",
              "      <td>0</td>\n",
              "      <td>0</td>\n",
              "      <td>...</td>\n",
              "      <td>0</td>\n",
              "      <td>0</td>\n",
              "      <td>0</td>\n",
              "      <td>0</td>\n",
              "      <td>0</td>\n",
              "      <td>0</td>\n",
              "      <td>0</td>\n",
              "      <td>0</td>\n",
              "      <td>0</td>\n",
              "      <td>1</td>\n",
              "    </tr>\n",
              "    <tr>\n",
              "      <th>13735</th>\n",
              "      <td>0</td>\n",
              "      <td>0</td>\n",
              "      <td>0</td>\n",
              "      <td>0</td>\n",
              "      <td>0</td>\n",
              "      <td>0</td>\n",
              "      <td>0</td>\n",
              "      <td>0</td>\n",
              "      <td>0</td>\n",
              "      <td>0</td>\n",
              "      <td>...</td>\n",
              "      <td>0</td>\n",
              "      <td>0</td>\n",
              "      <td>0</td>\n",
              "      <td>0</td>\n",
              "      <td>0</td>\n",
              "      <td>0</td>\n",
              "      <td>0</td>\n",
              "      <td>0</td>\n",
              "      <td>0</td>\n",
              "      <td>1</td>\n",
              "    </tr>\n",
              "  </tbody>\n",
              "</table>\n",
              "<p>13736 rows × 144 columns</p>\n",
              "</div>\n",
              "      <button class=\"colab-df-convert\" onclick=\"convertToInteractive('df-a7dad4d5-9a3c-4ce3-84a5-39c3a6e17195')\"\n",
              "              title=\"Convert this dataframe to an interactive table.\"\n",
              "              style=\"display:none;\">\n",
              "        \n",
              "  <svg xmlns=\"http://www.w3.org/2000/svg\" height=\"24px\"viewBox=\"0 0 24 24\"\n",
              "       width=\"24px\">\n",
              "    <path d=\"M0 0h24v24H0V0z\" fill=\"none\"/>\n",
              "    <path d=\"M18.56 5.44l.94 2.06.94-2.06 2.06-.94-2.06-.94-.94-2.06-.94 2.06-2.06.94zm-11 1L8.5 8.5l.94-2.06 2.06-.94-2.06-.94L8.5 2.5l-.94 2.06-2.06.94zm10 10l.94 2.06.94-2.06 2.06-.94-2.06-.94-.94-2.06-.94 2.06-2.06.94z\"/><path d=\"M17.41 7.96l-1.37-1.37c-.4-.4-.92-.59-1.43-.59-.52 0-1.04.2-1.43.59L10.3 9.45l-7.72 7.72c-.78.78-.78 2.05 0 2.83L4 21.41c.39.39.9.59 1.41.59.51 0 1.02-.2 1.41-.59l7.78-7.78 2.81-2.81c.8-.78.8-2.07 0-2.86zM5.41 20L4 18.59l7.72-7.72 1.47 1.35L5.41 20z\"/>\n",
              "  </svg>\n",
              "      </button>\n",
              "      \n",
              "  <style>\n",
              "    .colab-df-container {\n",
              "      display:flex;\n",
              "      flex-wrap:wrap;\n",
              "      gap: 12px;\n",
              "    }\n",
              "\n",
              "    .colab-df-convert {\n",
              "      background-color: #E8F0FE;\n",
              "      border: none;\n",
              "      border-radius: 50%;\n",
              "      cursor: pointer;\n",
              "      display: none;\n",
              "      fill: #1967D2;\n",
              "      height: 32px;\n",
              "      padding: 0 0 0 0;\n",
              "      width: 32px;\n",
              "    }\n",
              "\n",
              "    .colab-df-convert:hover {\n",
              "      background-color: #E2EBFA;\n",
              "      box-shadow: 0px 1px 2px rgba(60, 64, 67, 0.3), 0px 1px 3px 1px rgba(60, 64, 67, 0.15);\n",
              "      fill: #174EA6;\n",
              "    }\n",
              "\n",
              "    [theme=dark] .colab-df-convert {\n",
              "      background-color: #3B4455;\n",
              "      fill: #D2E3FC;\n",
              "    }\n",
              "\n",
              "    [theme=dark] .colab-df-convert:hover {\n",
              "      background-color: #434B5C;\n",
              "      box-shadow: 0px 1px 3px 1px rgba(0, 0, 0, 0.15);\n",
              "      filter: drop-shadow(0px 1px 2px rgba(0, 0, 0, 0.3));\n",
              "      fill: #FFFFFF;\n",
              "    }\n",
              "  </style>\n",
              "\n",
              "      <script>\n",
              "        const buttonEl =\n",
              "          document.querySelector('#df-a7dad4d5-9a3c-4ce3-84a5-39c3a6e17195 button.colab-df-convert');\n",
              "        buttonEl.style.display =\n",
              "          google.colab.kernel.accessAllowed ? 'block' : 'none';\n",
              "\n",
              "        async function convertToInteractive(key) {\n",
              "          const element = document.querySelector('#df-a7dad4d5-9a3c-4ce3-84a5-39c3a6e17195');\n",
              "          const dataTable =\n",
              "            await google.colab.kernel.invokeFunction('convertToInteractive',\n",
              "                                                     [key], {});\n",
              "          if (!dataTable) return;\n",
              "\n",
              "          const docLinkHtml = 'Like what you see? Visit the ' +\n",
              "            '<a target=\"_blank\" href=https://colab.research.google.com/notebooks/data_table.ipynb>data table notebook</a>'\n",
              "            + ' to learn more about interactive tables.';\n",
              "          element.innerHTML = '';\n",
              "          dataTable['output_type'] = 'display_data';\n",
              "          await google.colab.output.renderOutput(dataTable, element);\n",
              "          const docLink = document.createElement('div');\n",
              "          docLink.innerHTML = docLinkHtml;\n",
              "          element.appendChild(docLink);\n",
              "        }\n",
              "      </script>\n",
              "    </div>\n",
              "  </div>\n",
              "  "
            ]
          },
          "metadata": {},
          "execution_count": 14
        }
      ],
      "source": [
        "dataset.drop(\"text\", axis=1)"
      ]
    },
    {
      "cell_type": "markdown",
      "metadata": {
        "id": "H0uGTqSMmUjP"
      },
      "source": [
        "Разделение на датасет для тренировки и проверки"
      ]
    },
    {
      "cell_type": "code",
      "execution_count": 15,
      "metadata": {
        "id": "yr4smnWQmUjP"
      },
      "outputs": [],
      "source": [
        "train_dataset, test_dataset = train_test_split(dataset, test_size=0.2, random_state=42)"
      ]
    },
    {
      "cell_type": "code",
      "execution_count": 16,
      "metadata": {
        "id": "fUGnwdFWmUjQ"
      },
      "outputs": [],
      "source": [
        "device = torch.device(\"cuda\")"
      ]
    },
    {
      "cell_type": "markdown",
      "metadata": {
        "id": "nYlU4-9GmUjR"
      },
      "source": [
        "Topics"
      ]
    },
    {
      "cell_type": "code",
      "execution_count": 17,
      "metadata": {
        "colab": {
          "base_uri": "https://localhost:8080/"
        },
        "id": "OhKjdQvnmUjR",
        "outputId": "94214c37-e5df-4f38-9e05-e1f83822ed7d"
      },
      "outputs": [
        {
          "output_type": "execute_result",
          "data": {
            "text/plain": [
              "array(['passion', 'daughter', 'weather', 'animal', 'sea', 'innocence',\n",
              "       'change', 'angel', 'brother', 'world', 'paris', 'work', 'soldier',\n",
              "       'together', 'christmas', 'dance', 'sleep', 'happy', 'faith',\n",
              "       'school', 'courage', 'loss', 'romance', 'nature', 'identity',\n",
              "       'car', 'greed', 'lost', 'june', 'truth', 'destiny', 'trust',\n",
              "       'children', 'believe', 'culture', 'silver', 'frog', 'red', 'food',\n",
              "       'sun', 'romantic', 'time', 'lust', 'mother', 'heaven', 'memory',\n",
              "       'crazy', 'money', 'racism', 'girl', 'home', 'evil', 'future',\n",
              "       'running', 'carpe diem', 'sorrow', 'january', 'funeral', 'travel',\n",
              "       'spring', 'fire', 'poem', 'suicide', 'remember', 'poetry',\n",
              "       'football', 'green', 'laughter', 'cinderella', 'poverty', 'today',\n",
              "       'birth', 'happiness', 'life', 'son', 'winter', 'hair', 'rose',\n",
              "       'rainbow', 'god', 'star', 'house', 'power', 'sympathy',\n",
              "       'depression', 'snake', 'night', 'sick', 'despair', 'husband',\n",
              "       'rain', 'love', 'river', 'city', 'childhood', 'sister', 'war',\n",
              "       'kiss', 'beach', 'marriage', 'sometimes', 'father', 'joy',\n",
              "       'success', 'hero', 'respect', 'mirror', 'justice', 'lonely',\n",
              "       'dream', 'song', 'hunting', 'funny', 'pink', 'anger', 'hope',\n",
              "       'friend', 'beautiful', 'america', 'death', 'wedding', 'alone',\n",
              "       'graduation', 'baby', 'water', 'fear', 'moon', 'beauty', 'sky',\n",
              "       'ocean', 'family', 'thanks', 'swimming', 'summer', 'freedom',\n",
              "       'dark', 'hate', 'music', 'warning', 'teacher', 'peace', 'chicago',\n",
              "       'butterfly', 'murder'], dtype=object)"
            ]
          },
          "metadata": {},
          "execution_count": 17
        }
      ],
      "source": [
        "labels = dataset.columns[1:].values\n",
        "labels"
      ]
    },
    {
      "cell_type": "code",
      "execution_count": 18,
      "metadata": {
        "id": "6SNxfuGumUjS"
      },
      "outputs": [],
      "source": [
        "id2label = {idx:label for idx, label in enumerate(labels)}\n",
        "label2id = {label:idx for idx, label in enumerate(labels)}"
      ]
    },
    {
      "cell_type": "markdown",
      "metadata": {
        "id": "zgdSNVWnmUjS"
      },
      "source": [
        "BERT tokenizer"
      ]
    },
    {
      "cell_type": "code",
      "execution_count": 19,
      "metadata": {
        "colab": {
          "base_uri": "https://localhost:8080/",
          "height": 145,
          "referenced_widgets": [
            "a314461e7a744c5bbe2558b57c108e7d",
            "6f15202291044e1b91b3d02be5fc8677",
            "17f1ca3a2b3549f58143c2d48c4f1de5",
            "c308e5ea0e8941c4aa810d57a4a55300",
            "ce1788d0ee4b4195a4885f811bf5001f",
            "46731e5c62d64080b46dfde443439066",
            "e9a9690caff445fdb9f85f8c92825540",
            "bfe6b2bee3b448bcb70779add2dc6bce",
            "cfc69a9d64734172a6cbac7bdababbc1",
            "6ab856db6db34f5dbee8bbe1d800532c",
            "006e5b5c45414da990db3d4ff1e46dca",
            "aefe47e86a434bb88cc2f4cccfe28dc0",
            "ed2787b7505e4fed8cb4fbe0b707f4af",
            "eb3f1d9f7979482096643769749e1997",
            "806f26c3667e44fab3a7a56d4c17923a",
            "a899cdbb7125497783b7ba95547f05e2",
            "08d19866631340dcb37e11820a62088b",
            "0931c267ea49431b869f3e3d951511ab",
            "75ad101433bf4aad8c8dc8183a5fae5d",
            "c3f6d1a734a34c64a780ec9e9646791e",
            "324843415f694049a237b4eeb4c58486",
            "9fb75eb68b6e4fa6a2e91bd440ce067a",
            "c53f09fb1b39472b9b91bd6ecb762b3f",
            "c29dae96b4cf4f95a5d27b4cd5fedeb4",
            "a74392e920fd40e397b00ded258da58b",
            "642e2f47c6ed4719867528dfb4ddd59d",
            "ea5622a72c4b448b9da6c5e68421e63f",
            "f757cfd812ed457f97e6b2236b09e76e",
            "5a408a6db1f84aea829060de6d300149",
            "1ff6d92152b544bdb748f275550595b1",
            "e6640e1d86074a33b6ddf28102228812",
            "e325a9d4cb544d30988ac6b52a6bec41",
            "b8956a6f52c345fca87a126c62882e5f",
            "0945b67ee35d4be8ad6f32df53a92ed3",
            "c93c909095744681ad3f6e9390432e58",
            "2d21203211244df4869c250dc9f1e749",
            "55dcedcbfb5e45159ead063e525bbe70",
            "b6733468100a49bda3650a9eff069016",
            "ad7027d54ed54172ac8a0a0b889055f5",
            "b5a1bf3a89ca4e60844aaf416dc1c0e9",
            "455bdc19c1a94c9fa0411975b38da732",
            "b6168f72221a49fbbe01cb6d1b9debd1",
            "d2aab37b25b94340901b12189cb01d6e",
            "29f5ef0738a8404eb6e0ea974b2c69fa"
          ]
        },
        "id": "DOSrYQGumUjS",
        "outputId": "c0558a52-818c-46d9-fb38-7bd54cc9aad9"
      },
      "outputs": [
        {
          "output_type": "display_data",
          "data": {
            "text/plain": [
              "Downloading (…)okenizer_config.json:   0%|          | 0.00/28.0 [00:00<?, ?B/s]"
            ],
            "application/vnd.jupyter.widget-view+json": {
              "version_major": 2,
              "version_minor": 0,
              "model_id": "a314461e7a744c5bbe2558b57c108e7d"
            }
          },
          "metadata": {}
        },
        {
          "output_type": "display_data",
          "data": {
            "text/plain": [
              "Downloading (…)lve/main/config.json:   0%|          | 0.00/570 [00:00<?, ?B/s]"
            ],
            "application/vnd.jupyter.widget-view+json": {
              "version_major": 2,
              "version_minor": 0,
              "model_id": "aefe47e86a434bb88cc2f4cccfe28dc0"
            }
          },
          "metadata": {}
        },
        {
          "output_type": "display_data",
          "data": {
            "text/plain": [
              "Downloading (…)solve/main/vocab.txt:   0%|          | 0.00/232k [00:00<?, ?B/s]"
            ],
            "application/vnd.jupyter.widget-view+json": {
              "version_major": 2,
              "version_minor": 0,
              "model_id": "c53f09fb1b39472b9b91bd6ecb762b3f"
            }
          },
          "metadata": {}
        },
        {
          "output_type": "display_data",
          "data": {
            "text/plain": [
              "Downloading (…)/main/tokenizer.json:   0%|          | 0.00/466k [00:00<?, ?B/s]"
            ],
            "application/vnd.jupyter.widget-view+json": {
              "version_major": 2,
              "version_minor": 0,
              "model_id": "0945b67ee35d4be8ad6f32df53a92ed3"
            }
          },
          "metadata": {}
        }
      ],
      "source": [
        "tokenizer = AutoTokenizer.from_pretrained(\"bert-base-uncased\") # создание токенайзера для BERT"
      ]
    },
    {
      "cell_type": "markdown",
      "metadata": {
        "id": "Zlvqe5X5mUjT"
      },
      "source": [
        "Data preprocess"
      ]
    },
    {
      "cell_type": "code",
      "execution_count": 20,
      "metadata": {
        "id": "g-6rEVgNmUjT"
      },
      "outputs": [],
      "source": [
        "def preprocess_data(examples):\n",
        "    # взятие батча текстов\n",
        "    text = examples[\"text\"]\n",
        "    # кодирование текстов\n",
        "    encoding = tokenizer(text, padding=\"max_length\", truncation=True, max_length=256)\n",
        "    # создание словаря, где ключ - label, а значение - вектор размера батча (из 0 и 1)\n",
        "    labels_batch = {k: examples[k] for k in examples.keys() if k in labels}\n",
        "    # создание numpy массива размером (batch_size, num_labels)\n",
        "    labels_matrix = np.zeros((len(text), len(labels)))\n",
        "    # заполнение numpy массива\n",
        "    for idx, label in enumerate(labels):\n",
        "        labels_matrix[:, idx] = labels_batch[label]\n",
        "    encoding[\"labels\"] = labels_matrix.tolist()\n",
        "    return encoding"
      ]
    },
    {
      "cell_type": "markdown",
      "source": [
        "Создание DatasetDict для упрощения работы с трансформерами."
      ],
      "metadata": {
        "id": "SeCvjeJ_T6vU"
      }
    },
    {
      "cell_type": "code",
      "execution_count": 21,
      "metadata": {
        "colab": {
          "base_uri": "https://localhost:8080/"
        },
        "id": "1tEvbNkImUjU",
        "outputId": "003893a0-103e-442c-be32-aa3651f07f3c"
      },
      "outputs": [
        {
          "output_type": "execute_result",
          "data": {
            "text/plain": [
              "DatasetDict({\n",
              "    train: Dataset({\n",
              "        features: ['text', 'passion', 'daughter', 'weather', 'animal', 'sea', 'innocence', 'change', 'angel', 'brother', 'world', 'paris', 'work', 'soldier', 'together', 'christmas', 'dance', 'sleep', 'happy', 'faith', 'school', 'courage', 'loss', 'romance', 'nature', 'identity', 'car', 'greed', 'lost', 'june', 'truth', 'destiny', 'trust', 'children', 'believe', 'culture', 'silver', 'frog', 'red', 'food', 'sun', 'romantic', 'time', 'lust', 'mother', 'heaven', 'memory', 'crazy', 'money', 'racism', 'girl', 'home', 'evil', 'future', 'running', 'carpe diem', 'sorrow', 'january', 'funeral', 'travel', 'spring', 'fire', 'poem', 'suicide', 'remember', 'poetry', 'football', 'green', 'laughter', 'cinderella', 'poverty', 'today', 'birth', 'happiness', 'life', 'son', 'winter', 'hair', 'rose', 'rainbow', 'god', 'star', 'house', 'power', 'sympathy', 'depression', 'snake', 'night', 'sick', 'despair', 'husband', 'rain', 'love', 'river', 'city', 'childhood', 'sister', 'war', 'kiss', 'beach', 'marriage', 'sometimes', 'father', 'joy', 'success', 'hero', 'respect', 'mirror', 'justice', 'lonely', 'dream', 'song', 'hunting', 'funny', 'pink', 'anger', 'hope', 'friend', 'beautiful', 'america', 'death', 'wedding', 'alone', 'graduation', 'baby', 'water', 'fear', 'moon', 'beauty', 'sky', 'ocean', 'family', 'thanks', 'swimming', 'summer', 'freedom', 'dark', 'hate', 'music', 'warning', 'teacher', 'peace', 'chicago', 'butterfly', 'murder', '__index_level_0__'],\n",
              "        num_rows: 10988\n",
              "    })\n",
              "    test: Dataset({\n",
              "        features: ['text', 'passion', 'daughter', 'weather', 'animal', 'sea', 'innocence', 'change', 'angel', 'brother', 'world', 'paris', 'work', 'soldier', 'together', 'christmas', 'dance', 'sleep', 'happy', 'faith', 'school', 'courage', 'loss', 'romance', 'nature', 'identity', 'car', 'greed', 'lost', 'june', 'truth', 'destiny', 'trust', 'children', 'believe', 'culture', 'silver', 'frog', 'red', 'food', 'sun', 'romantic', 'time', 'lust', 'mother', 'heaven', 'memory', 'crazy', 'money', 'racism', 'girl', 'home', 'evil', 'future', 'running', 'carpe diem', 'sorrow', 'january', 'funeral', 'travel', 'spring', 'fire', 'poem', 'suicide', 'remember', 'poetry', 'football', 'green', 'laughter', 'cinderella', 'poverty', 'today', 'birth', 'happiness', 'life', 'son', 'winter', 'hair', 'rose', 'rainbow', 'god', 'star', 'house', 'power', 'sympathy', 'depression', 'snake', 'night', 'sick', 'despair', 'husband', 'rain', 'love', 'river', 'city', 'childhood', 'sister', 'war', 'kiss', 'beach', 'marriage', 'sometimes', 'father', 'joy', 'success', 'hero', 'respect', 'mirror', 'justice', 'lonely', 'dream', 'song', 'hunting', 'funny', 'pink', 'anger', 'hope', 'friend', 'beautiful', 'america', 'death', 'wedding', 'alone', 'graduation', 'baby', 'water', 'fear', 'moon', 'beauty', 'sky', 'ocean', 'family', 'thanks', 'swimming', 'summer', 'freedom', 'dark', 'hate', 'music', 'warning', 'teacher', 'peace', 'chicago', 'butterfly', 'murder', '__index_level_0__'],\n",
              "        num_rows: 2748\n",
              "    })\n",
              "})"
            ]
          },
          "metadata": {},
          "execution_count": 21
        }
      ],
      "source": [
        "dd = datasets.DatasetDict({\"train\":Dataset.from_pandas(train_dataset),\"test\":Dataset.from_pandas(test_dataset)})\n",
        "dd"
      ]
    },
    {
      "cell_type": "code",
      "execution_count": 22,
      "metadata": {
        "colab": {
          "base_uri": "https://localhost:8080/",
          "height": 17,
          "referenced_widgets": [
            "5abb27adcaa3438ca8bed1288da042c7",
            "4e6434001fc14e5ba95d8169a822e0e8",
            "e376e85ccd3946bc8bb2105c4db1cf42",
            "e207705743854eb6a487cd5ff0358b5c",
            "242cc0cae8504221aa82583d41265be0",
            "97905e1354f34f028a68eba977a9569d",
            "f03af98954844938828b7470eede2296",
            "be069f8c56f34f51ab0a8db5b613f38b",
            "3d531d168f054e2fb36e403d733a367a",
            "e18b4fe8fc7541b3a2813a85bc301288",
            "ece5a96efc7945519ada45aeb85ca35a",
            "d4c0e90718074c69a55af4907a0b9c0f",
            "0a84a43311f14e888d650ccaad172f05",
            "0c850a546e044209877a3ecc8f32af73",
            "f5304e4384a149ea8fe3d2ec480cdf4a",
            "5be692ab17e94781be905761681d6bcf",
            "802aa36bfa674f0f958ec768af2d149f",
            "ac670cacbd4940698f46c157c79286d8",
            "393e5dbe8324412e82f9e6c1c657374a",
            "92235924cfd244349ac95f3712b56b06",
            "44502a5cf5d54a27aa40f87d2396844a",
            "eff34a9285b54ce18e6a3a9466ae4f51"
          ]
        },
        "id": "GvYWxV7VmUjU",
        "outputId": "83dc367b-51f4-42e5-a463-789f4240b48f"
      },
      "outputs": [
        {
          "output_type": "display_data",
          "data": {
            "text/plain": [
              "Map:   0%|          | 0/10988 [00:00<?, ? examples/s]"
            ],
            "application/vnd.jupyter.widget-view+json": {
              "version_major": 2,
              "version_minor": 0,
              "model_id": "5abb27adcaa3438ca8bed1288da042c7"
            }
          },
          "metadata": {}
        },
        {
          "output_type": "display_data",
          "data": {
            "text/plain": [
              "Map:   0%|          | 0/2748 [00:00<?, ? examples/s]"
            ],
            "application/vnd.jupyter.widget-view+json": {
              "version_major": 2,
              "version_minor": 0,
              "model_id": "d4c0e90718074c69a55af4907a0b9c0f"
            }
          },
          "metadata": {}
        }
      ],
      "source": [
        "encoded_dataset = dd.map(preprocess_data, batched=True, remove_columns=dd['train'].column_names)"
      ]
    },
    {
      "cell_type": "markdown",
      "metadata": {
        "id": "v4fI2A7RmUjU"
      },
      "source": [
        "Пример работы токенайзера"
      ]
    },
    {
      "cell_type": "code",
      "execution_count": 23,
      "metadata": {
        "colab": {
          "base_uri": "https://localhost:8080/"
        },
        "id": "LYfdf0lOmUjV",
        "outputId": "9d01f6ef-deae-4491-aec6-b71e7dbe9768"
      },
      "outputs": [
        {
          "output_type": "stream",
          "name": "stdout",
          "text": [
            "dict_keys(['input_ids', 'token_type_ids', 'attention_mask', 'labels'])\n"
          ]
        }
      ],
      "source": [
        "example = encoded_dataset['train'][1]\n",
        "print(example.keys())"
      ]
    },
    {
      "cell_type": "code",
      "execution_count": 24,
      "metadata": {
        "colab": {
          "base_uri": "https://localhost:8080/"
        },
        "id": "xgTcM7kGmUjV",
        "outputId": "3b30f500-2057-4bff-a42b-af54f2591c0f"
      },
      "outputs": [
        {
          "output_type": "stream",
          "name": "stdout",
          "text": [
            "{'input_ids': [101, 1045, 2156, 1996, 3548, 10998, 2006, 4823, 1037, 3147, 2162, 2299, 2006, 1996, 2346, 2027, 2907, 3031, 2037, 4409, 2004, 1996, 3554, 3632, 2006, 2035, 2154, 2146, 2954, 1010, 2233, 1010, 1998, 2954, 5607, 1010, 6614, 1998, 5607, 2157, 3251, 1996, 3103, 12342, 2015, 1010, 2023, 2003, 2162, 2023, 2003, 2162, 3251, 1996, 15811, 10364, 2015, 2023, 2003, 2162, 2073, 2057, 3102, 2256, 2814, 1010, 5208, 1998, 3428, 2005, 2027, 2024, 2256, 6716, 2005, 2613, 2065, 2027, 5454, 2114, 2149, 2005, 2178, 2027, 2175, 2000, 2162, 2138, 1997, 1037, 9210, 1997, 2576, 2273, 2040, 3233, 4142, 1025, 1999, 14908, 4822, 2145, 3173, 2037, 25636, 1996, 3548, 2954, 2127, 2053, 2028, 4832, 2039, 4902, 999, 2954, 1010, 2233, 1010, 1998, 2954, 5607, 1010, 6614, 1998, 5607, 2157, 3251, 1996, 3103, 12342, 2015, 1010, 2023, 2003, 2162, 2023, 2003, 2162, 3251, 1996, 15811, 10364, 2015, 7479, 1012, 13378, 5428, 4305, 1012, 4012, 102, 0, 0, 0, 0, 0, 0, 0, 0, 0, 0, 0, 0, 0, 0, 0, 0, 0, 0, 0, 0, 0, 0, 0, 0, 0, 0, 0, 0, 0, 0, 0, 0, 0, 0, 0, 0, 0, 0, 0, 0, 0, 0, 0, 0, 0, 0, 0, 0, 0, 0, 0, 0, 0, 0, 0, 0, 0, 0, 0, 0, 0, 0, 0, 0, 0, 0, 0, 0, 0, 0, 0, 0, 0, 0, 0, 0, 0, 0, 0, 0, 0, 0, 0, 0, 0, 0, 0, 0, 0, 0, 0, 0, 0, 0, 0, 0, 0, 0, 0, 0, 0, 0, 0, 0], 'token_type_ids': [0, 0, 0, 0, 0, 0, 0, 0, 0, 0, 0, 0, 0, 0, 0, 0, 0, 0, 0, 0, 0, 0, 0, 0, 0, 0, 0, 0, 0, 0, 0, 0, 0, 0, 0, 0, 0, 0, 0, 0, 0, 0, 0, 0, 0, 0, 0, 0, 0, 0, 0, 0, 0, 0, 0, 0, 0, 0, 0, 0, 0, 0, 0, 0, 0, 0, 0, 0, 0, 0, 0, 0, 0, 0, 0, 0, 0, 0, 0, 0, 0, 0, 0, 0, 0, 0, 0, 0, 0, 0, 0, 0, 0, 0, 0, 0, 0, 0, 0, 0, 0, 0, 0, 0, 0, 0, 0, 0, 0, 0, 0, 0, 0, 0, 0, 0, 0, 0, 0, 0, 0, 0, 0, 0, 0, 0, 0, 0, 0, 0, 0, 0, 0, 0, 0, 0, 0, 0, 0, 0, 0, 0, 0, 0, 0, 0, 0, 0, 0, 0, 0, 0, 0, 0, 0, 0, 0, 0, 0, 0, 0, 0, 0, 0, 0, 0, 0, 0, 0, 0, 0, 0, 0, 0, 0, 0, 0, 0, 0, 0, 0, 0, 0, 0, 0, 0, 0, 0, 0, 0, 0, 0, 0, 0, 0, 0, 0, 0, 0, 0, 0, 0, 0, 0, 0, 0, 0, 0, 0, 0, 0, 0, 0, 0, 0, 0, 0, 0, 0, 0, 0, 0, 0, 0, 0, 0, 0, 0, 0, 0, 0, 0, 0, 0, 0, 0, 0, 0, 0, 0, 0, 0, 0, 0, 0, 0, 0, 0, 0, 0, 0, 0, 0, 0, 0, 0], 'attention_mask': [1, 1, 1, 1, 1, 1, 1, 1, 1, 1, 1, 1, 1, 1, 1, 1, 1, 1, 1, 1, 1, 1, 1, 1, 1, 1, 1, 1, 1, 1, 1, 1, 1, 1, 1, 1, 1, 1, 1, 1, 1, 1, 1, 1, 1, 1, 1, 1, 1, 1, 1, 1, 1, 1, 1, 1, 1, 1, 1, 1, 1, 1, 1, 1, 1, 1, 1, 1, 1, 1, 1, 1, 1, 1, 1, 1, 1, 1, 1, 1, 1, 1, 1, 1, 1, 1, 1, 1, 1, 1, 1, 1, 1, 1, 1, 1, 1, 1, 1, 1, 1, 1, 1, 1, 1, 1, 1, 1, 1, 1, 1, 1, 1, 1, 1, 1, 1, 1, 1, 1, 1, 1, 1, 1, 1, 1, 1, 1, 1, 1, 1, 1, 1, 1, 1, 1, 1, 1, 1, 1, 1, 1, 1, 1, 1, 1, 1, 1, 1, 1, 1, 1, 0, 0, 0, 0, 0, 0, 0, 0, 0, 0, 0, 0, 0, 0, 0, 0, 0, 0, 0, 0, 0, 0, 0, 0, 0, 0, 0, 0, 0, 0, 0, 0, 0, 0, 0, 0, 0, 0, 0, 0, 0, 0, 0, 0, 0, 0, 0, 0, 0, 0, 0, 0, 0, 0, 0, 0, 0, 0, 0, 0, 0, 0, 0, 0, 0, 0, 0, 0, 0, 0, 0, 0, 0, 0, 0, 0, 0, 0, 0, 0, 0, 0, 0, 0, 0, 0, 0, 0, 0, 0, 0, 0, 0, 0, 0, 0, 0, 0, 0, 0, 0, 0, 0, 0], 'labels': [0.0, 0.0, 0.0, 0.0, 0.0, 0.0, 0.0, 0.0, 0.0, 0.0, 0.0, 0.0, 0.0, 0.0, 0.0, 0.0, 0.0, 0.0, 0.0, 0.0, 0.0, 0.0, 0.0, 0.0, 0.0, 0.0, 0.0, 0.0, 0.0, 0.0, 0.0, 0.0, 0.0, 0.0, 0.0, 0.0, 0.0, 0.0, 0.0, 0.0, 0.0, 0.0, 0.0, 0.0, 0.0, 0.0, 0.0, 0.0, 0.0, 0.0, 0.0, 0.0, 0.0, 0.0, 0.0, 0.0, 0.0, 0.0, 0.0, 0.0, 0.0, 0.0, 0.0, 0.0, 0.0, 0.0, 0.0, 0.0, 0.0, 0.0, 0.0, 0.0, 0.0, 0.0, 0.0, 0.0, 0.0, 0.0, 0.0, 0.0, 0.0, 0.0, 0.0, 0.0, 0.0, 0.0, 0.0, 0.0, 0.0, 0.0, 0.0, 0.0, 0.0, 0.0, 0.0, 0.0, 1.0, 0.0, 0.0, 0.0, 0.0, 0.0, 0.0, 0.0, 0.0, 0.0, 0.0, 0.0, 0.0, 0.0, 0.0, 0.0, 0.0, 0.0, 0.0, 0.0, 0.0, 0.0, 0.0, 0.0, 0.0, 0.0, 0.0, 0.0, 0.0, 0.0, 0.0, 0.0, 0.0, 0.0, 0.0, 0.0, 0.0, 0.0, 0.0, 0.0, 0.0, 0.0, 0.0, 0.0, 0.0, 0.0, 0.0, 0.0]}\n"
          ]
        }
      ],
      "source": [
        "print(example)  # вывод закодированного представления"
      ]
    },
    {
      "cell_type": "code",
      "execution_count": 25,
      "metadata": {
        "colab": {
          "base_uri": "https://localhost:8080/",
          "height": 125
        },
        "id": "e1yfqDLnmUjW",
        "outputId": "7c70a129-6fda-483e-d78d-c4dc29e7127f"
      },
      "outputs": [
        {
          "output_type": "execute_result",
          "data": {
            "text/plain": [
              "'[CLS] i see the soldiers marching on singing a cold war song on the road they hold onto their guns as the fighting goes on all day long fight, march, and fight shoot, aim and shoot right whether the sun shines, this is war this is war whether the rains pours this is war where we kill our friends, sisters and brothers for they are our enemies for real if they choose against us for another they go to war because of a handful of political men who stand alive ; in erect offices still holding their pens the soldiers fight until no one stands up anymore! fight, march, and fight shoot, aim and shoot right whether the sun shines, this is war this is war whether the rains pours www. sylviachidi. com [SEP] [PAD] [PAD] [PAD] [PAD] [PAD] [PAD] [PAD] [PAD] [PAD] [PAD] [PAD] [PAD] [PAD] [PAD] [PAD] [PAD] [PAD] [PAD] [PAD] [PAD] [PAD] [PAD] [PAD] [PAD] [PAD] [PAD] [PAD] [PAD] [PAD] [PAD] [PAD] [PAD] [PAD] [PAD] [PAD] [PAD] [PAD] [PAD] [PAD] [PAD] [PAD] [PAD] [PAD] [PAD] [PAD] [PAD] [PAD] [PAD] [PAD] [PAD] [PAD] [PAD] [PAD] [PAD] [PAD] [PAD] [PAD] [PAD] [PAD] [PAD] [PAD] [PAD] [PAD] [PAD] [PAD] [PAD] [PAD] [PAD] [PAD] [PAD] [PAD] [PAD] [PAD] [PAD] [PAD] [PAD] [PAD] [PAD] [PAD] [PAD] [PAD] [PAD] [PAD] [PAD] [PAD] [PAD] [PAD] [PAD] [PAD] [PAD] [PAD] [PAD] [PAD] [PAD] [PAD] [PAD] [PAD] [PAD] [PAD] [PAD] [PAD] [PAD] [PAD] [PAD]'"
            ],
            "application/vnd.google.colaboratory.intrinsic+json": {
              "type": "string"
            }
          },
          "metadata": {},
          "execution_count": 25
        }
      ],
      "source": [
        "tokenizer.decode(example['input_ids']) # декодирование примера"
      ]
    },
    {
      "cell_type": "code",
      "execution_count": 26,
      "metadata": {
        "colab": {
          "base_uri": "https://localhost:8080/"
        },
        "id": "8msFLPSwmUjW",
        "outputId": "dd7a8802-9fac-4cd8-971a-1bcb840a18c2"
      },
      "outputs": [
        {
          "output_type": "stream",
          "name": "stdout",
          "text": [
            "[0.0, 0.0, 0.0, 0.0, 0.0, 0.0, 0.0, 0.0, 0.0, 0.0, 0.0, 0.0, 0.0, 0.0, 0.0, 0.0, 0.0, 0.0, 0.0, 0.0, 0.0, 0.0, 0.0, 0.0, 0.0, 0.0, 0.0, 0.0, 0.0, 0.0, 0.0, 0.0, 0.0, 0.0, 0.0, 0.0, 0.0, 0.0, 0.0, 0.0, 0.0, 0.0, 0.0, 0.0, 0.0, 0.0, 0.0, 0.0, 0.0, 0.0, 0.0, 0.0, 0.0, 0.0, 0.0, 0.0, 0.0, 0.0, 0.0, 0.0, 0.0, 0.0, 0.0, 0.0, 0.0, 0.0, 0.0, 0.0, 0.0, 0.0, 0.0, 0.0, 0.0, 0.0, 0.0, 0.0, 0.0, 0.0, 0.0, 0.0, 0.0, 0.0, 0.0, 0.0, 0.0, 0.0, 0.0, 0.0, 0.0, 0.0, 0.0, 0.0, 0.0, 0.0, 0.0, 0.0, 1.0, 0.0, 0.0, 0.0, 0.0, 0.0, 0.0, 0.0, 0.0, 0.0, 0.0, 0.0, 0.0, 0.0, 0.0, 0.0, 0.0, 0.0, 0.0, 0.0, 0.0, 0.0, 0.0, 0.0, 0.0, 0.0, 0.0, 0.0, 0.0, 0.0, 0.0, 0.0, 0.0, 0.0, 0.0, 0.0, 0.0, 0.0, 0.0, 0.0, 0.0, 0.0, 0.0, 0.0, 0.0, 0.0, 0.0, 0.0]\n"
          ]
        }
      ],
      "source": [
        "print(example['labels']) # соответствие текста топикам"
      ]
    },
    {
      "cell_type": "code",
      "execution_count": 27,
      "metadata": {
        "colab": {
          "base_uri": "https://localhost:8080/"
        },
        "id": "uFqWlI8_mUjX",
        "outputId": "c55ed6a4-325e-454f-b54d-99298e1f7d81"
      },
      "outputs": [
        {
          "output_type": "execute_result",
          "data": {
            "text/plain": [
              "['war']"
            ]
          },
          "metadata": {},
          "execution_count": 27
        }
      ],
      "source": [
        "[id2label[idx] for idx, label in enumerate(example['labels']) if label == 1.0]"
      ]
    },
    {
      "cell_type": "markdown",
      "metadata": {
        "id": "5LnzHEKQmUjX"
      },
      "source": [
        "Изменение формата"
      ]
    },
    {
      "cell_type": "code",
      "execution_count": 28,
      "metadata": {
        "id": "3MphkOiwmUjX"
      },
      "outputs": [],
      "source": [
        "encoded_dataset.set_format(\"torch\")"
      ]
    },
    {
      "cell_type": "markdown",
      "metadata": {
        "id": "FN7z0T3ImUjY"
      },
      "source": [
        "# Модель"
      ]
    },
    {
      "cell_type": "code",
      "execution_count": 52,
      "metadata": {
        "colab": {
          "base_uri": "https://localhost:8080/"
        },
        "id": "qIFHy1eRmUjY",
        "outputId": "b933a668-fa11-46e2-e39d-ae33ce4d3b06"
      },
      "outputs": [
        {
          "output_type": "stream",
          "name": "stderr",
          "text": [
            "Some weights of the model checkpoint at bert-base-uncased were not used when initializing BertForSequenceClassification: ['cls.predictions.transform.dense.weight', 'cls.predictions.transform.LayerNorm.weight', 'cls.seq_relationship.bias', 'cls.predictions.decoder.weight', 'cls.predictions.transform.dense.bias', 'cls.predictions.bias', 'cls.seq_relationship.weight', 'cls.predictions.transform.LayerNorm.bias']\n",
            "- This IS expected if you are initializing BertForSequenceClassification from the checkpoint of a model trained on another task or with another architecture (e.g. initializing a BertForSequenceClassification model from a BertForPreTraining model).\n",
            "- This IS NOT expected if you are initializing BertForSequenceClassification from the checkpoint of a model that you expect to be exactly identical (initializing a BertForSequenceClassification model from a BertForSequenceClassification model).\n",
            "Some weights of BertForSequenceClassification were not initialized from the model checkpoint at bert-base-uncased and are newly initialized: ['classifier.weight', 'classifier.bias']\n",
            "You should probably TRAIN this model on a down-stream task to be able to use it for predictions and inference.\n"
          ]
        }
      ],
      "source": [
        "model = AutoModelForSequenceClassification.from_pretrained(\"bert-base-uncased\", \n",
        "                                                           problem_type=\"multi_label_classification\", \n",
        "                                                           num_labels=len(labels),\n",
        "                                                           id2label=id2label,\n",
        "                                                           label2id=label2id)"
      ]
    },
    {
      "cell_type": "markdown",
      "metadata": {
        "id": "b8WEQuOSmUjY"
      },
      "source": [
        "## Fine-tuning BERT модели\n",
        "\n"
      ]
    },
    {
      "cell_type": "code",
      "execution_count": 53,
      "metadata": {
        "id": "eEocxcx-mUjZ"
      },
      "outputs": [],
      "source": [
        "batch_size = 16 # размер батча"
      ]
    },
    {
      "cell_type": "markdown",
      "source": [
        "Создание кастомного класса Trainer с переопределением функции вычисления loss для задачи multi-label classification."
      ],
      "metadata": {
        "id": "2ZmrOcGpWO1k"
      }
    },
    {
      "cell_type": "markdown",
      "source": [
        "Так как в датасете присутствует аж 144 различных топика, при условии, что каждый текст может относиться лишь к нескольким топикам одновременно, то данная матрица сильно разрежена."
      ],
      "metadata": {
        "id": "LZPPfDEEXDoz"
      }
    },
    {
      "cell_type": "markdown",
      "source": [
        "Из-за большой разреженности без изменения loss функции, модель будет предсказывать одни 0, т.к. они будут составлять почти весь датасет. Поэтому больший вес нужно отдавать реальным значениям топиков (там, где должна быть 1)."
      ],
      "metadata": {
        "id": "QrdAEA_DXsxa"
      }
    },
    {
      "cell_type": "code",
      "execution_count": 54,
      "metadata": {
        "id": "Uk3H58fbQFkM"
      },
      "outputs": [],
      "source": [
        "class CustomTrainer(Trainer):\n",
        "    def compute_loss(self, model, inputs, return_outputs=False):\n",
        "        labels = inputs.pop(\"labels\")\n",
        "\n",
        "        outputs = model(**inputs)\n",
        "\n",
        "        # Сохранение прошлого состояния, если оно существует\n",
        "        if self.args.past_index >= 0:\n",
        "            self._past = outputs[self.args.past_index]\n",
        "\n",
        "        logits = outputs.get(\"logits\")\n",
        "\n",
        "        # приводим предсказания к виду от 0 до 1\n",
        "        sigmoid = torch.nn.Sigmoid()\n",
        "        predictions = sigmoid(logits)\n",
        "\n",
        "        # вычисление custom loss с повышенным приоритетом на значение предсказания, где должно быть 1\n",
        "        weights = []\n",
        "        for batch in range(len(inputs[\"input_ids\"])):\n",
        "            weights.append([(1 + x*99) for x in labels[batch]])\n",
        "        loss_fct = torch.nn.BCELoss(weight=torch.tensor(weights).to(device))\n",
        "        loss = loss_fct(predictions, labels)\n",
        "        \n",
        "        return (loss, outputs) if return_outputs else loss"
      ]
    },
    {
      "cell_type": "markdown",
      "source": [
        "Параметры для тренировки"
      ],
      "metadata": {
        "id": "joFSj7d9YaIP"
      }
    },
    {
      "cell_type": "code",
      "execution_count": 55,
      "metadata": {
        "id": "rEsS3V1bmUja"
      },
      "outputs": [],
      "source": [
        "args = TrainingArguments(\n",
        "    f\"bert-finetuned-sem_eval-english\", # папка для сохранения контрольных точек\n",
        "    evaluation_strategy = \"epoch\", # оценивание во время обучения\n",
        "    # evaluation_strategy = \"no\",\n",
        "    save_strategy = \"epoch\", # сохранение модели (после эпохи)\n",
        "    learning_rate=2e-5, # lr для AdamW оптимизатора\n",
        "    per_device_train_batch_size=batch_size, # размер батча при тренирвке\n",
        "    per_device_eval_batch_size=batch_size, # размер батча при оценивании\n",
        "    num_train_epochs=10, # число эпох обучения\n",
        "    weight_decay=0.01, # вес для слоёв\n",
        "    load_best_model_at_end=True, # загружать ли лучшую модель\n",
        "    metric_for_best_model=\"f1\", # метрика, на основе которой будет выбрана лучшая модель\n",
        "    dataloader_drop_last=True\n",
        ")"
      ]
    },
    {
      "cell_type": "markdown",
      "metadata": {
        "id": "BmSzJTGSmUjb"
      },
      "source": [
        "Функция для вычисления метрик во время evaluation."
      ]
    },
    {
      "cell_type": "code",
      "execution_count": 56,
      "metadata": {
        "id": "oklW8Ya8mUjb"
      },
      "outputs": [],
      "source": [
        "def multi_label_metrics(predictions, labels, threshold=0.5):\n",
        "    # применение функции sigmoid, чтобы преобразовать выведенные моделью значения в область от 0 до 1\n",
        "    sigmoid = torch.nn.Sigmoid()\n",
        "    probs = sigmoid(torch.Tensor(predictions)) # переводим вероятности в область от 0 до 1\n",
        "\n",
        "    y_pred = np.zeros(probs.shape)\n",
        "    y_pred[np.where(probs >= threshold)] = 1 # если вероятность > treshold, то ставим 1 в предсказании (остальное 0)\n",
        "\n",
        "    y_true = labels # реальное значение топиков\n",
        "   \n",
        "    f1_micro_average, accuracy, precision, recall = 0, 0, 0, 0\n",
        "\n",
        "    for elem in range(len(y_true)):\n",
        "        f1_micro_average += f1_score(y_true[elem], y_pred[elem], average='weighted')\n",
        "        accuracy += accuracy_score(y_true[elem], y_pred[elem])\n",
        "        precision += precision_score(y_true[elem], y_pred[elem], average='weighted')\n",
        "        recall += recall_score(y_true[elem], y_pred[elem], average='weighted')\n",
        "\n",
        "    metrics = {'f1': f1_micro_average/len(y_true),\n",
        "               'accuracy': accuracy/len(y_true),\n",
        "               'precision': precision/len(y_true),\n",
        "               'recall': recall/len(y_true)\n",
        "              }\n",
        "\n",
        "    return metrics\n",
        "\n",
        "def compute_metrics(p: EvalPrediction):\n",
        "    preds = p.predictions[0] if isinstance(p.predictions, \n",
        "            tuple) else p.predictions\n",
        "    \n",
        "    result = multi_label_metrics(\n",
        "        predictions=preds, \n",
        "        labels=p.label_ids)\n",
        "    return result"
      ]
    },
    {
      "cell_type": "markdown",
      "metadata": {
        "id": "CVbTAiktmUje"
      },
      "source": [
        "# Обучение"
      ]
    },
    {
      "cell_type": "code",
      "execution_count": 57,
      "metadata": {
        "id": "zvs21BPSmUje"
      },
      "outputs": [],
      "source": [
        "trainer = CustomTrainer(\n",
        "    model.to(device), # модель для обучения\n",
        "    args, # аргументы для обучения\n",
        "    train_dataset=encoded_dataset[\"train\"], # датасет, используемый при обучении\n",
        "    eval_dataset=encoded_dataset[\"test\"], # датасет, используемый для оценивания\n",
        "    tokenizer=tokenizer, # токенизатор\n",
        "    compute_metrics=compute_metrics # функция для подсчёта метрик при оценивании\n",
        ")"
      ]
    },
    {
      "cell_type": "code",
      "source": [
        "trainer.train()"
      ],
      "metadata": {
        "colab": {
          "base_uri": "https://localhost:8080/",
          "height": 423
        },
        "id": "4f35qnbAIkOq",
        "outputId": "e3322deb-3c33-49cb-e050-38b00eb91a5a"
      },
      "execution_count": 58,
      "outputs": [
        {
          "output_type": "display_data",
          "data": {
            "text/plain": [
              "<IPython.core.display.HTML object>"
            ],
            "text/html": [
              "\n",
              "    <div>\n",
              "      \n",
              "      <progress value='6860' max='6860' style='width:300px; height:20px; vertical-align: middle;'></progress>\n",
              "      [6860/6860 1:39:55, Epoch 10/10]\n",
              "    </div>\n",
              "    <table border=\"1\" class=\"dataframe\">\n",
              "  <thead>\n",
              " <tr style=\"text-align: left;\">\n",
              "      <th>Epoch</th>\n",
              "      <th>Training Loss</th>\n",
              "      <th>Validation Loss</th>\n",
              "      <th>F1</th>\n",
              "      <th>Accuracy</th>\n",
              "      <th>Precision</th>\n",
              "      <th>Recall</th>\n",
              "    </tr>\n",
              "  </thead>\n",
              "  <tbody>\n",
              "    <tr>\n",
              "      <td>1</td>\n",
              "      <td>1.129300</td>\n",
              "      <td>0.928706</td>\n",
              "      <td>0.890369</td>\n",
              "      <td>0.816414</td>\n",
              "      <td>0.990815</td>\n",
              "      <td>0.816414</td>\n",
              "    </tr>\n",
              "    <tr>\n",
              "      <td>2</td>\n",
              "      <td>0.909600</td>\n",
              "      <td>0.768975</td>\n",
              "      <td>0.943634</td>\n",
              "      <td>0.905618</td>\n",
              "      <td>0.991401</td>\n",
              "      <td>0.905618</td>\n",
              "    </tr>\n",
              "    <tr>\n",
              "      <td>3</td>\n",
              "      <td>0.668100</td>\n",
              "      <td>0.689310</td>\n",
              "      <td>0.955360</td>\n",
              "      <td>0.926467</td>\n",
              "      <td>0.991732</td>\n",
              "      <td>0.926467</td>\n",
              "    </tr>\n",
              "    <tr>\n",
              "      <td>4</td>\n",
              "      <td>0.578700</td>\n",
              "      <td>0.647333</td>\n",
              "      <td>0.966245</td>\n",
              "      <td>0.945543</td>\n",
              "      <td>0.992050</td>\n",
              "      <td>0.945543</td>\n",
              "    </tr>\n",
              "    <tr>\n",
              "      <td>5</td>\n",
              "      <td>0.508500</td>\n",
              "      <td>0.629888</td>\n",
              "      <td>0.969724</td>\n",
              "      <td>0.951554</td>\n",
              "      <td>0.992312</td>\n",
              "      <td>0.951554</td>\n",
              "    </tr>\n",
              "    <tr>\n",
              "      <td>6</td>\n",
              "      <td>0.403400</td>\n",
              "      <td>0.619227</td>\n",
              "      <td>0.974982</td>\n",
              "      <td>0.960915</td>\n",
              "      <td>0.992459</td>\n",
              "      <td>0.960915</td>\n",
              "    </tr>\n",
              "    <tr>\n",
              "      <td>7</td>\n",
              "      <td>0.363800</td>\n",
              "      <td>0.615132</td>\n",
              "      <td>0.976160</td>\n",
              "      <td>0.962831</td>\n",
              "      <td>0.992648</td>\n",
              "      <td>0.962831</td>\n",
              "    </tr>\n",
              "    <tr>\n",
              "      <td>8</td>\n",
              "      <td>0.334300</td>\n",
              "      <td>0.620432</td>\n",
              "      <td>0.979423</td>\n",
              "      <td>0.968557</td>\n",
              "      <td>0.992861</td>\n",
              "      <td>0.968557</td>\n",
              "    </tr>\n",
              "    <tr>\n",
              "      <td>9</td>\n",
              "      <td>0.291700</td>\n",
              "      <td>0.624910</td>\n",
              "      <td>0.980611</td>\n",
              "      <td>0.970697</td>\n",
              "      <td>0.992857</td>\n",
              "      <td>0.970697</td>\n",
              "    </tr>\n",
              "    <tr>\n",
              "      <td>10</td>\n",
              "      <td>0.277800</td>\n",
              "      <td>0.625068</td>\n",
              "      <td>0.980645</td>\n",
              "      <td>0.970753</td>\n",
              "      <td>0.992864</td>\n",
              "      <td>0.970753</td>\n",
              "    </tr>\n",
              "  </tbody>\n",
              "</table><p>"
            ]
          },
          "metadata": {}
        },
        {
          "output_type": "execute_result",
          "data": {
            "text/plain": [
              "TrainOutput(global_step=6860, training_loss=0.5255559815609768, metrics={'train_runtime': 5996.4547, 'train_samples_per_second': 18.324, 'train_steps_per_second': 1.144, 'total_flos': 1.445794455748608e+16, 'train_loss': 0.5255559815609768, 'epoch': 10.0})"
            ]
          },
          "metadata": {},
          "execution_count": 58
        }
      ]
    },
    {
      "cell_type": "code",
      "source": [
        "# trainer.save_model('/content/drive/MyDrive/Универ/Lab5_1')\n",
        "# trainer.save_state()"
      ],
      "metadata": {
        "id": "tzyn3NmyeMaW"
      },
      "execution_count": 59,
      "outputs": []
    },
    {
      "cell_type": "markdown",
      "metadata": {
        "id": "qan2a9pQmUjf"
      },
      "source": [
        "# Оценивание (вывод метрик)"
      ]
    },
    {
      "cell_type": "code",
      "source": [
        "trainer.evaluate()"
      ],
      "metadata": {
        "colab": {
          "base_uri": "https://localhost:8080/",
          "height": 193
        },
        "id": "cxFLwM1pgKP3",
        "outputId": "e59aec3c-d949-4426-87c3-cabe557f4ff9"
      },
      "execution_count": 62,
      "outputs": [
        {
          "output_type": "display_data",
          "data": {
            "text/plain": [
              "<IPython.core.display.HTML object>"
            ],
            "text/html": [
              "\n",
              "    <div>\n",
              "      \n",
              "      <progress value='171' max='171' style='width:300px; height:20px; vertical-align: middle;'></progress>\n",
              "      [171/171 00:52]\n",
              "    </div>\n",
              "    "
            ]
          },
          "metadata": {}
        },
        {
          "output_type": "execute_result",
          "data": {
            "text/plain": [
              "{'eval_loss': 0.6250684857368469,\n",
              " 'eval_f1': 0.9806447169165649,\n",
              " 'eval_accuracy': 0.9707526193957199,\n",
              " 'eval_precision': 0.9928639702710194,\n",
              " 'eval_recall': 0.9707526193957199,\n",
              " 'eval_runtime': 64.5698,\n",
              " 'eval_samples_per_second': 42.559,\n",
              " 'eval_steps_per_second': 2.664,\n",
              " 'epoch': 10.0}"
            ]
          },
          "metadata": {},
          "execution_count": 62
        }
      ]
    },
    {
      "cell_type": "markdown",
      "source": [
        "В итоге метрики получились следующие: \n",
        "\n",
        "*   f1 - 0.98,\n",
        "*   accuracy (recall) - 0.97,\n",
        "*   precision - 0.99."
      ],
      "metadata": {
        "id": "aZZnDjjNg8yM"
      }
    },
    {
      "cell_type": "markdown",
      "source": [
        "При увеличении количества эпох начинается переобучение, loss на валидации увеличивается. \n",
        "\n",
        "Следовательно, оптимальное количество эпох для обучения ~7."
      ],
      "metadata": {
        "id": "KQpBsvn5hXLa"
      }
    },
    {
      "cell_type": "code",
      "execution_count": 5,
      "metadata": {
        "id": "cN49WwgamUji",
        "colab": {
          "base_uri": "https://localhost:8080/",
          "height": 567
        },
        "outputId": "56695212-c2df-4080-82c3-60ce13e20b96"
      },
      "outputs": [
        {
          "output_type": "display_data",
          "data": {
            "text/plain": [
              "<Figure size 648x648 with 1 Axes>"
            ],
            "image/png": "[encoded data removed]"
          },
          "metadata": {
            "needs_background": "light"
          }
        }
      ],
      "source": [
        "train_losses = [1.1293, 0.9096, 0.6681, 0.5787, 0.5085, 0.4034, 0.3638, 0.3343, 0.2917, 0.2778]\n",
        "eval_losses = [0.928706, 0.768975, 0.689310, 0.647333, 0.629888, 0.619227, 0.615132, 0.620432, 0.624910, 0.625068]\n",
        "plt.figure(figsize=(9, 9))\n",
        "plt.title(\"Изменение значения loss функции\")\n",
        "plt.xlabel(\"Эпоха\")\n",
        "plt.ylabel(\"loss\")\n",
        "plt.plot(train_losses)\n",
        "plt.plot(eval_losses)\n",
        "plt.legend(['train_losses', 'eval_losses'])\n",
        "plt.show()"
      ]
    },
    {
      "cell_type": "markdown",
      "source": [
        "На графике видно, что значение training loss постоянно снижалось (с 1.13 до 0.28). Однако, validation loss, достигнув значения 0.615, с 7й эпохи начинает увеличиваться, что свидетельствует о переобучении."
      ],
      "metadata": {
        "id": "LyGnszK-nk0l"
      }
    },
    {
      "cell_type": "markdown",
      "metadata": {
        "id": "t8gv2sRjmUjg"
      },
      "source": [
        "# Проверка работоспособности"
      ]
    },
    {
      "cell_type": "code",
      "execution_count": 63,
      "metadata": {
        "colab": {
          "base_uri": "https://localhost:8080/",
          "height": 89
        },
        "id": "E9mCb9usQFkR",
        "outputId": "7e74401a-bd68-4a54-83d5-a26239fa5243"
      },
      "outputs": [
        {
          "output_type": "execute_result",
          "data": {
            "text/plain": [
              "'Your passion is permanently etched on my soul, On all flesh, branding skin north and south. Even after I have finished brushing my teeth I can relive your taste in my mouth. Your poems play new chords on the strings of my heart, The mark your smile leaves? I m still guessing! But the magical way you ve touched me from the start Poetry has no way of expressing. Though it s true that we have never met in the flesh And no photograph I ve ever seen. Could it be a connection from many past lives? Just the thought of you makes my world green. The best artist could never capture the beauty Of the truth you have let my heart see, Only one thing could possibly soften this blow: To know that in fact - you are for me.'"
            ],
            "application/vnd.google.colaboratory.intrinsic+json": {
              "type": "string"
            }
          },
          "metadata": {},
          "execution_count": 63
        }
      ],
      "source": [
        "dataset[\"text\"][0]"
      ]
    },
    {
      "cell_type": "code",
      "execution_count": 64,
      "metadata": {
        "id": "QHIwxx1HQFkS"
      },
      "outputs": [],
      "source": [
        "text = dataset[\"text\"][0]\n",
        "\n",
        "encoding = tokenizer(text, return_tensors=\"pt\")\n",
        "encoding = {k: v.to(trainer.model.device) for k,v in encoding.items()}\n",
        "outputs = trainer.model(**encoding)\n",
        "outputs\n",
        "logits = outputs.logits"
      ]
    },
    {
      "cell_type": "code",
      "execution_count": 66,
      "metadata": {
        "id": "bALYdh14mUjh",
        "outputId": "b71c01bf-df60-4e13-a519-fbb7b85106a1",
        "colab": {
          "base_uri": "https://localhost:8080/"
        }
      },
      "outputs": [
        {
          "output_type": "stream",
          "name": "stdout",
          "text": [
            "tensor([0.9358, 0.0459, 0.1231, 0.0729, 0.1046, 0.2605, 0.1599, 0.0953, 0.0440,\n",
            "        0.0972, 0.0341, 0.1531, 0.0466, 0.1765, 0.0293, 0.2195, 0.1335, 0.1518,\n",
            "        0.0820, 0.0724, 0.1002, 0.2250, 0.4950, 0.2662, 0.0383, 0.0451, 0.1064,\n",
            "        0.1459, 0.0782, 0.0802, 0.0853, 0.0774, 0.0923, 0.0745, 0.0783, 0.0300,\n",
            "        0.0425, 0.0731, 0.1576, 0.0388, 0.5435, 0.0656, 0.4500, 0.0774, 0.0700,\n",
            "        0.0684, 0.2115, 0.0412, 0.0155, 0.0382, 0.0357, 0.1487, 0.0616, 0.0256,\n",
            "        0.0778, 0.0390, 0.0912, 0.0773, 0.0964, 0.0810, 0.1005, 0.1715, 0.0601,\n",
            "        0.0995, 0.5363, 0.0640, 0.1113, 0.2351, 0.1393, 0.0524, 0.1224, 0.1208,\n",
            "        0.0444, 0.2239, 0.0191, 0.0863, 0.0292, 0.0711, 0.2361, 0.0498, 0.0644,\n",
            "        0.0482, 0.3575, 0.0644, 0.0606, 0.0610, 0.0778, 0.1221, 0.0249, 0.2624,\n",
            "        0.1426, 0.6623, 0.2081, 0.0281, 0.0635, 0.0208, 0.0468, 0.8097, 0.0975,\n",
            "        0.2090, 0.1292, 0.0298, 0.2301, 0.1136, 0.0883, 0.0357, 0.0349, 0.0249,\n",
            "        0.1060, 0.1212, 0.1413, 0.0834, 0.1618, 0.2124, 0.0628, 0.0388, 0.1152,\n",
            "        0.1160, 0.0344, 0.1067, 0.0875, 0.0206, 0.0586, 0.1011, 0.3480, 0.0520,\n",
            "        0.0311, 0.0401, 0.1292, 0.1743, 0.0281, 0.2923, 0.1537, 0.0372, 0.1175,\n",
            "        0.1174, 0.1970, 0.3524, 0.1857, 0.3016, 0.1052, 0.0298, 0.2363, 0.0606],\n",
            "       grad_fn=<SigmoidBackward0>)\n",
            "['passion', 'romantic', 'poetry', 'love', 'kiss']\n"
          ]
        }
      ],
      "source": [
        "# применим sigmoid (для приведения к виду вероятности от 0 до 1) + threshold\n",
        "sigmoid = torch.nn.Sigmoid()\n",
        "probs = sigmoid(logits.squeeze().cpu())\n",
        "print(probs)\n",
        "predictions = np.zeros(probs.shape)\n",
        "predictions[np.where(probs >= 0.5)] = 1\n",
        "# конвертируем предсказанные id's в реальные названия топиков\n",
        "predicted_labels = [id2label[idx] for idx, label in enumerate(predictions) if label == 1.0]\n",
        "print(predicted_labels)"
      ]
    },
    {
      "cell_type": "markdown",
      "source": [
        "## Вывод\n",
        "\n",
        "Таким образом, трансформер - уже собранная нейросеть со своей структурой и слоями, которая может быть быстро переобучена под нужные задачи и входные данные. "
      ],
      "metadata": {
        "id": "h6JI3KZgmr8Y"
      }
    }
  ],
  "metadata": {
    "accelerator": "GPU",
    "colab": {
      "provenance": []
    },
    "gpuClass": "standard",
    "kernelspec": {
      "display_name": "Python 3",
      "name": "python3"
    },
    "language_info": {
      "name": "python"
    },
    "widgets": {
      "application/vnd.jupyter.widget-state+json": {
        "a314461e7a744c5bbe2558b57c108e7d": {
          "model_module": "@jupyter-widgets/controls",
          "model_name": "HBoxModel",
          "model_module_version": "1.5.0",
          "state": {
            "_dom_classes": [],
            "_model_module": "@jupyter-widgets/controls",
            "_model_module_version": "1.5.0",
            "_model_name": "HBoxModel",
            "_view_count": null,
            "_view_module": "@jupyter-widgets/controls",
            "_view_module_version": "1.5.0",
            "_view_name": "HBoxView",
            "box_style": "",
            "children": [
              "IPY_MODEL_6f15202291044e1b91b3d02be5fc8677",
              "IPY_MODEL_17f1ca3a2b3549f58143c2d48c4f1de5",
              "IPY_MODEL_c308e5ea0e8941c4aa810d57a4a55300"
            ],
            "layout": "IPY_MODEL_ce1788d0ee4b4195a4885f811bf5001f"
          }
        },
        "6f15202291044e1b91b3d02be5fc8677": {
          "model_module": "@jupyter-widgets/controls",
          "model_name": "HTMLModel",
          "model_module_version": "1.5.0",
          "state": {
            "_dom_classes": [],
            "_model_module": "@jupyter-widgets/controls",
            "_model_module_version": "1.5.0",
            "_model_name": "HTMLModel",
            "_view_count": null,
            "_view_module": "@jupyter-widgets/controls",
            "_view_module_version": "1.5.0",
            "_view_name": "HTMLView",
            "description": "",
            "description_tooltip": null,
            "layout": "IPY_MODEL_46731e5c62d64080b46dfde443439066",
            "placeholder": "​",
            "style": "IPY_MODEL_e9a9690caff445fdb9f85f8c92825540",
            "value": "Downloading (…)okenizer_config.json: 100%"
          }
        },
        "17f1ca3a2b3549f58143c2d48c4f1de5": {
          "model_module": "@jupyter-widgets/controls",
          "model_name": "FloatProgressModel",
          "model_module_version": "1.5.0",
          "state": {
            "_dom_classes": [],
            "_model_module": "@jupyter-widgets/controls",
            "_model_module_version": "1.5.0",
            "_model_name": "FloatProgressModel",
            "_view_count": null,
            "_view_module": "@jupyter-widgets/controls",
            "_view_module_version": "1.5.0",
            "_view_name": "ProgressView",
            "bar_style": "success",
            "description": "",
            "description_tooltip": null,
            "layout": "IPY_MODEL_bfe6b2bee3b448bcb70779add2dc6bce",
            "max": 28,
            "min": 0,
            "orientation": "horizontal",
            "style": "IPY_MODEL_cfc69a9d64734172a6cbac7bdababbc1",
            "value": 28
          }
        },
        "c308e5ea0e8941c4aa810d57a4a55300": {
          "model_module": "@jupyter-widgets/controls",
          "model_name": "HTMLModel",
          "model_module_version": "1.5.0",
          "state": {
            "_dom_classes": [],
            "_model_module": "@jupyter-widgets/controls",
            "_model_module_version": "1.5.0",
            "_model_name": "HTMLModel",
            "_view_count": null,
            "_view_module": "@jupyter-widgets/controls",
            "_view_module_version": "1.5.0",
            "_view_name": "HTMLView",
            "description": "",
            "description_tooltip": null,
            "layout": "IPY_MODEL_6ab856db6db34f5dbee8bbe1d800532c",
            "placeholder": "​",
            "style": "IPY_MODEL_006e5b5c45414da990db3d4ff1e46dca",
            "value": " 28.0/28.0 [00:00&lt;00:00, 855B/s]"
          }
        },
        "ce1788d0ee4b4195a4885f811bf5001f": {
          "model_module": "@jupyter-widgets/base",
          "model_name": "LayoutModel",
          "model_module_version": "1.2.0",
          "state": {
            "_model_module": "@jupyter-widgets/base",
            "_model_module_version": "1.2.0",
            "_model_name": "LayoutModel",
            "_view_count": null,
            "_view_module": "@jupyter-widgets/base",
            "_view_module_version": "1.2.0",
            "_view_name": "LayoutView",
            "align_content": null,
            "align_items": null,
            "align_self": null,
            "border": null,
            "bottom": null,
            "display": null,
            "flex": null,
            "flex_flow": null,
            "grid_area": null,
            "grid_auto_columns": null,
            "grid_auto_flow": null,
            "grid_auto_rows": null,
            "grid_column": null,
            "grid_gap": null,
            "grid_row": null,
            "grid_template_areas": null,
            "grid_template_columns": null,
            "grid_template_rows": null,
            "height": null,
            "justify_content": null,
            "justify_items": null,
            "left": null,
            "margin": null,
            "max_height": null,
            "max_width": null,
            "min_height": null,
            "min_width": null,
            "object_fit": null,
            "object_position": null,
            "order": null,
            "overflow": null,
            "overflow_x": null,
            "overflow_y": null,
            "padding": null,
            "right": null,
            "top": null,
            "visibility": null,
            "width": null
          }
        },
        "46731e5c62d64080b46dfde443439066": {
          "model_module": "@jupyter-widgets/base",
          "model_name": "LayoutModel",
          "model_module_version": "1.2.0",
          "state": {
            "_model_module": "@jupyter-widgets/base",
            "_model_module_version": "1.2.0",
            "_model_name": "LayoutModel",
            "_view_count": null,
            "_view_module": "@jupyter-widgets/base",
            "_view_module_version": "1.2.0",
            "_view_name": "LayoutView",
            "align_content": null,
            "align_items": null,
            "align_self": null,
            "border": null,
            "bottom": null,
            "display": null,
            "flex": null,
            "flex_flow": null,
            "grid_area": null,
            "grid_auto_columns": null,
            "grid_auto_flow": null,
            "grid_auto_rows": null,
            "grid_column": null,
            "grid_gap": null,
            "grid_row": null,
            "grid_template_areas": null,
            "grid_template_columns": null,
            "grid_template_rows": null,
            "height": null,
            "justify_content": null,
            "justify_items": null,
            "left": null,
            "margin": null,
            "max_height": null,
            "max_width": null,
            "min_height": null,
            "min_width": null,
            "object_fit": null,
            "object_position": null,
            "order": null,
            "overflow": null,
            "overflow_x": null,
            "overflow_y": null,
            "padding": null,
            "right": null,
            "top": null,
            "visibility": null,
            "width": null
          }
        },
        "e9a9690caff445fdb9f85f8c92825540": {
          "model_module": "@jupyter-widgets/controls",
          "model_name": "DescriptionStyleModel",
          "model_module_version": "1.5.0",
          "state": {
            "_model_module": "@jupyter-widgets/controls",
            "_model_module_version": "1.5.0",
            "_model_name": "DescriptionStyleModel",
            "_view_count": null,
            "_view_module": "@jupyter-widgets/base",
            "_view_module_version": "1.2.0",
            "_view_name": "StyleView",
            "description_width": ""
          }
        },
        "bfe6b2bee3b448bcb70779add2dc6bce": {
          "model_module": "@jupyter-widgets/base",
          "model_name": "LayoutModel",
          "model_module_version": "1.2.0",
          "state": {
            "_model_module": "@jupyter-widgets/base",
            "_model_module_version": "1.2.0",
            "_model_name": "LayoutModel",
            "_view_count": null,
            "_view_module": "@jupyter-widgets/base",
            "_view_module_version": "1.2.0",
            "_view_name": "LayoutView",
            "align_content": null,
            "align_items": null,
            "align_self": null,
            "border": null,
            "bottom": null,
            "display": null,
            "flex": null,
            "flex_flow": null,
            "grid_area": null,
            "grid_auto_columns": null,
            "grid_auto_flow": null,
            "grid_auto_rows": null,
            "grid_column": null,
            "grid_gap": null,
            "grid_row": null,
            "grid_template_areas": null,
            "grid_template_columns": null,
            "grid_template_rows": null,
            "height": null,
            "justify_content": null,
            "justify_items": null,
            "left": null,
            "margin": null,
            "max_height": null,
            "max_width": null,
            "min_height": null,
            "min_width": null,
            "object_fit": null,
            "object_position": null,
            "order": null,
            "overflow": null,
            "overflow_x": null,
            "overflow_y": null,
            "padding": null,
            "right": null,
            "top": null,
            "visibility": null,
            "width": null
          }
        },
        "cfc69a9d64734172a6cbac7bdababbc1": {
          "model_module": "@jupyter-widgets/controls",
          "model_name": "ProgressStyleModel",
          "model_module_version": "1.5.0",
          "state": {
            "_model_module": "@jupyter-widgets/controls",
            "_model_module_version": "1.5.0",
            "_model_name": "ProgressStyleModel",
            "_view_count": null,
            "_view_module": "@jupyter-widgets/base",
            "_view_module_version": "1.2.0",
            "_view_name": "StyleView",
            "bar_color": null,
            "description_width": ""
          }
        },
        "6ab856db6db34f5dbee8bbe1d800532c": {
          "model_module": "@jupyter-widgets/base",
          "model_name": "LayoutModel",
          "model_module_version": "1.2.0",
          "state": {
            "_model_module": "@jupyter-widgets/base",
            "_model_module_version": "1.2.0",
            "_model_name": "LayoutModel",
            "_view_count": null,
            "_view_module": "@jupyter-widgets/base",
            "_view_module_version": "1.2.0",
            "_view_name": "LayoutView",
            "align_content": null,
            "align_items": null,
            "align_self": null,
            "border": null,
            "bottom": null,
            "display": null,
            "flex": null,
            "flex_flow": null,
            "grid_area": null,
            "grid_auto_columns": null,
            "grid_auto_flow": null,
            "grid_auto_rows": null,
            "grid_column": null,
            "grid_gap": null,
            "grid_row": null,
            "grid_template_areas": null,
            "grid_template_columns": null,
            "grid_template_rows": null,
            "height": null,
            "justify_content": null,
            "justify_items": null,
            "left": null,
            "margin": null,
            "max_height": null,
            "max_width": null,
            "min_height": null,
            "min_width": null,
            "object_fit": null,
            "object_position": null,
            "order": null,
            "overflow": null,
            "overflow_x": null,
            "overflow_y": null,
            "padding": null,
            "right": null,
            "top": null,
            "visibility": null,
            "width": null
          }
        },
        "006e5b5c45414da990db3d4ff1e46dca": {
          "model_module": "@jupyter-widgets/controls",
          "model_name": "DescriptionStyleModel",
          "model_module_version": "1.5.0",
          "state": {
            "_model_module": "@jupyter-widgets/controls",
            "_model_module_version": "1.5.0",
            "_model_name": "DescriptionStyleModel",
            "_view_count": null,
            "_view_module": "@jupyter-widgets/base",
            "_view_module_version": "1.2.0",
            "_view_name": "StyleView",
            "description_width": ""
          }
        },
        "aefe47e86a434bb88cc2f4cccfe28dc0": {
          "model_module": "@jupyter-widgets/controls",
          "model_name": "HBoxModel",
          "model_module_version": "1.5.0",
          "state": {
            "_dom_classes": [],
            "_model_module": "@jupyter-widgets/controls",
            "_model_module_version": "1.5.0",
            "_model_name": "HBoxModel",
            "_view_count": null,
            "_view_module": "@jupyter-widgets/controls",
            "_view_module_version": "1.5.0",
            "_view_name": "HBoxView",
            "box_style": "",
            "children": [
              "IPY_MODEL_ed2787b7505e4fed8cb4fbe0b707f4af",
              "IPY_MODEL_eb3f1d9f7979482096643769749e1997",
              "IPY_MODEL_806f26c3667e44fab3a7a56d4c17923a"
            ],
            "layout": "IPY_MODEL_a899cdbb7125497783b7ba95547f05e2"
          }
        },
        "ed2787b7505e4fed8cb4fbe0b707f4af": {
          "model_module": "@jupyter-widgets/controls",
          "model_name": "HTMLModel",
          "model_module_version": "1.5.0",
          "state": {
            "_dom_classes": [],
            "_model_module": "@jupyter-widgets/controls",
            "_model_module_version": "1.5.0",
            "_model_name": "HTMLModel",
            "_view_count": null,
            "_view_module": "@jupyter-widgets/controls",
            "_view_module_version": "1.5.0",
            "_view_name": "HTMLView",
            "description": "",
            "description_tooltip": null,
            "layout": "IPY_MODEL_08d19866631340dcb37e11820a62088b",
            "placeholder": "​",
            "style": "IPY_MODEL_0931c267ea49431b869f3e3d951511ab",
            "value": "Downloading (…)lve/main/config.json: 100%"
          }
        },
        "eb3f1d9f7979482096643769749e1997": {
          "model_module": "@jupyter-widgets/controls",
          "model_name": "FloatProgressModel",
          "model_module_version": "1.5.0",
          "state": {
            "_dom_classes": [],
            "_model_module": "@jupyter-widgets/controls",
            "_model_module_version": "1.5.0",
            "_model_name": "FloatProgressModel",
            "_view_count": null,
            "_view_module": "@jupyter-widgets/controls",
            "_view_module_version": "1.5.0",
            "_view_name": "ProgressView",
            "bar_style": "success",
            "description": "",
            "description_tooltip": null,
            "layout": "IPY_MODEL_75ad101433bf4aad8c8dc8183a5fae5d",
            "max": 570,
            "min": 0,
            "orientation": "horizontal",
            "style": "IPY_MODEL_c3f6d1a734a34c64a780ec9e9646791e",
            "value": 570
          }
        },
        "806f26c3667e44fab3a7a56d4c17923a": {
          "model_module": "@jupyter-widgets/controls",
          "model_name": "HTMLModel",
          "model_module_version": "1.5.0",
          "state": {
            "_dom_classes": [],
            "_model_module": "@jupyter-widgets/controls",
            "_model_module_version": "1.5.0",
            "_model_name": "HTMLModel",
            "_view_count": null,
            "_view_module": "@jupyter-widgets/controls",
            "_view_module_version": "1.5.0",
            "_view_name": "HTMLView",
            "description": "",
            "description_tooltip": null,
            "layout": "IPY_MODEL_324843415f694049a237b4eeb4c58486",
            "placeholder": "​",
            "style": "IPY_MODEL_9fb75eb68b6e4fa6a2e91bd440ce067a",
            "value": " 570/570 [00:00&lt;00:00, 23.8kB/s]"
          }
        },
        "a899cdbb7125497783b7ba95547f05e2": {
          "model_module": "@jupyter-widgets/base",
          "model_name": "LayoutModel",
          "model_module_version": "1.2.0",
          "state": {
            "_model_module": "@jupyter-widgets/base",
            "_model_module_version": "1.2.0",
            "_model_name": "LayoutModel",
            "_view_count": null,
            "_view_module": "@jupyter-widgets/base",
            "_view_module_version": "1.2.0",
            "_view_name": "LayoutView",
            "align_content": null,
            "align_items": null,
            "align_self": null,
            "border": null,
            "bottom": null,
            "display": null,
            "flex": null,
            "flex_flow": null,
            "grid_area": null,
            "grid_auto_columns": null,
            "grid_auto_flow": null,
            "grid_auto_rows": null,
            "grid_column": null,
            "grid_gap": null,
            "grid_row": null,
            "grid_template_areas": null,
            "grid_template_columns": null,
            "grid_template_rows": null,
            "height": null,
            "justify_content": null,
            "justify_items": null,
            "left": null,
            "margin": null,
            "max_height": null,
            "max_width": null,
            "min_height": null,
            "min_width": null,
            "object_fit": null,
            "object_position": null,
            "order": null,
            "overflow": null,
            "overflow_x": null,
            "overflow_y": null,
            "padding": null,
            "right": null,
            "top": null,
            "visibility": null,
            "width": null
          }
        },
        "08d19866631340dcb37e11820a62088b": {
          "model_module": "@jupyter-widgets/base",
          "model_name": "LayoutModel",
          "model_module_version": "1.2.0",
          "state": {
            "_model_module": "@jupyter-widgets/base",
            "_model_module_version": "1.2.0",
            "_model_name": "LayoutModel",
            "_view_count": null,
            "_view_module": "@jupyter-widgets/base",
            "_view_module_version": "1.2.0",
            "_view_name": "LayoutView",
            "align_content": null,
            "align_items": null,
            "align_self": null,
            "border": null,
            "bottom": null,
            "display": null,
            "flex": null,
            "flex_flow": null,
            "grid_area": null,
            "grid_auto_columns": null,
            "grid_auto_flow": null,
            "grid_auto_rows": null,
            "grid_column": null,
            "grid_gap": null,
            "grid_row": null,
            "grid_template_areas": null,
            "grid_template_columns": null,
            "grid_template_rows": null,
            "height": null,
            "justify_content": null,
            "justify_items": null,
            "left": null,
            "margin": null,
            "max_height": null,
            "max_width": null,
            "min_height": null,
            "min_width": null,
            "object_fit": null,
            "object_position": null,
            "order": null,
            "overflow": null,
            "overflow_x": null,
            "overflow_y": null,
            "padding": null,
            "right": null,
            "top": null,
            "visibility": null,
            "width": null
          }
        },
        "0931c267ea49431b869f3e3d951511ab": {
          "model_module": "@jupyter-widgets/controls",
          "model_name": "DescriptionStyleModel",
          "model_module_version": "1.5.0",
          "state": {
            "_model_module": "@jupyter-widgets/controls",
            "_model_module_version": "1.5.0",
            "_model_name": "DescriptionStyleModel",
            "_view_count": null,
            "_view_module": "@jupyter-widgets/base",
            "_view_module_version": "1.2.0",
            "_view_name": "StyleView",
            "description_width": ""
          }
        },
        "75ad101433bf4aad8c8dc8183a5fae5d": {
          "model_module": "@jupyter-widgets/base",
          "model_name": "LayoutModel",
          "model_module_version": "1.2.0",
          "state": {
            "_model_module": "@jupyter-widgets/base",
            "_model_module_version": "1.2.0",
            "_model_name": "LayoutModel",
            "_view_count": null,
            "_view_module": "@jupyter-widgets/base",
            "_view_module_version": "1.2.0",
            "_view_name": "LayoutView",
            "align_content": null,
            "align_items": null,
            "align_self": null,
            "border": null,
            "bottom": null,
            "display": null,
            "flex": null,
            "flex_flow": null,
            "grid_area": null,
            "grid_auto_columns": null,
            "grid_auto_flow": null,
            "grid_auto_rows": null,
            "grid_column": null,
            "grid_gap": null,
            "grid_row": null,
            "grid_template_areas": null,
            "grid_template_columns": null,
            "grid_template_rows": null,
            "height": null,
            "justify_content": null,
            "justify_items": null,
            "left": null,
            "margin": null,
            "max_height": null,
            "max_width": null,
            "min_height": null,
            "min_width": null,
            "object_fit": null,
            "object_position": null,
            "order": null,
            "overflow": null,
            "overflow_x": null,
            "overflow_y": null,
            "padding": null,
            "right": null,
            "top": null,
            "visibility": null,
            "width": null
          }
        },
        "c3f6d1a734a34c64a780ec9e9646791e": {
          "model_module": "@jupyter-widgets/controls",
          "model_name": "ProgressStyleModel",
          "model_module_version": "1.5.0",
          "state": {
            "_model_module": "@jupyter-widgets/controls",
            "_model_module_version": "1.5.0",
            "_model_name": "ProgressStyleModel",
            "_view_count": null,
            "_view_module": "@jupyter-widgets/base",
            "_view_module_version": "1.2.0",
            "_view_name": "StyleView",
            "bar_color": null,
            "description_width": ""
          }
        },
        "324843415f694049a237b4eeb4c58486": {
          "model_module": "@jupyter-widgets/base",
          "model_name": "LayoutModel",
          "model_module_version": "1.2.0",
          "state": {
            "_model_module": "@jupyter-widgets/base",
            "_model_module_version": "1.2.0",
            "_model_name": "LayoutModel",
            "_view_count": null,
            "_view_module": "@jupyter-widgets/base",
            "_view_module_version": "1.2.0",
            "_view_name": "LayoutView",
            "align_content": null,
            "align_items": null,
            "align_self": null,
            "border": null,
            "bottom": null,
            "display": null,
            "flex": null,
            "flex_flow": null,
            "grid_area": null,
            "grid_auto_columns": null,
            "grid_auto_flow": null,
            "grid_auto_rows": null,
            "grid_column": null,
            "grid_gap": null,
            "grid_row": null,
            "grid_template_areas": null,
            "grid_template_columns": null,
            "grid_template_rows": null,
            "height": null,
            "justify_content": null,
            "justify_items": null,
            "left": null,
            "margin": null,
            "max_height": null,
            "max_width": null,
            "min_height": null,
            "min_width": null,
            "object_fit": null,
            "object_position": null,
            "order": null,
            "overflow": null,
            "overflow_x": null,
            "overflow_y": null,
            "padding": null,
            "right": null,
            "top": null,
            "visibility": null,
            "width": null
          }
        },
        "9fb75eb68b6e4fa6a2e91bd440ce067a": {
          "model_module": "@jupyter-widgets/controls",
          "model_name": "DescriptionStyleModel",
          "model_module_version": "1.5.0",
          "state": {
            "_model_module": "@jupyter-widgets/controls",
            "_model_module_version": "1.5.0",
            "_model_name": "DescriptionStyleModel",
            "_view_count": null,
            "_view_module": "@jupyter-widgets/base",
            "_view_module_version": "1.2.0",
            "_view_name": "StyleView",
            "description_width": ""
          }
        },
        "c53f09fb1b39472b9b91bd6ecb762b3f": {
          "model_module": "@jupyter-widgets/controls",
          "model_name": "HBoxModel",
          "model_module_version": "1.5.0",
          "state": {
            "_dom_classes": [],
            "_model_module": "@jupyter-widgets/controls",
            "_model_module_version": "1.5.0",
            "_model_name": "HBoxModel",
            "_view_count": null,
            "_view_module": "@jupyter-widgets/controls",
            "_view_module_version": "1.5.0",
            "_view_name": "HBoxView",
            "box_style": "",
            "children": [
              "IPY_MODEL_c29dae96b4cf4f95a5d27b4cd5fedeb4",
              "IPY_MODEL_a74392e920fd40e397b00ded258da58b",
              "IPY_MODEL_642e2f47c6ed4719867528dfb4ddd59d"
            ],
            "layout": "IPY_MODEL_ea5622a72c4b448b9da6c5e68421e63f"
          }
        },
        "c29dae96b4cf4f95a5d27b4cd5fedeb4": {
          "model_module": "@jupyter-widgets/controls",
          "model_name": "HTMLModel",
          "model_module_version": "1.5.0",
          "state": {
            "_dom_classes": [],
            "_model_module": "@jupyter-widgets/controls",
            "_model_module_version": "1.5.0",
            "_model_name": "HTMLModel",
            "_view_count": null,
            "_view_module": "@jupyter-widgets/controls",
            "_view_module_version": "1.5.0",
            "_view_name": "HTMLView",
            "description": "",
            "description_tooltip": null,
            "layout": "IPY_MODEL_f757cfd812ed457f97e6b2236b09e76e",
            "placeholder": "​",
            "style": "IPY_MODEL_5a408a6db1f84aea829060de6d300149",
            "value": "Downloading (…)solve/main/vocab.txt: 100%"
          }
        },
        "a74392e920fd40e397b00ded258da58b": {
          "model_module": "@jupyter-widgets/controls",
          "model_name": "FloatProgressModel",
          "model_module_version": "1.5.0",
          "state": {
            "_dom_classes": [],
            "_model_module": "@jupyter-widgets/controls",
            "_model_module_version": "1.5.0",
            "_model_name": "FloatProgressModel",
            "_view_count": null,
            "_view_module": "@jupyter-widgets/controls",
            "_view_module_version": "1.5.0",
            "_view_name": "ProgressView",
            "bar_style": "success",
            "description": "",
            "description_tooltip": null,
            "layout": "IPY_MODEL_1ff6d92152b544bdb748f275550595b1",
            "max": 231508,
            "min": 0,
            "orientation": "horizontal",
            "style": "IPY_MODEL_e6640e1d86074a33b6ddf28102228812",
            "value": 231508
          }
        },
        "642e2f47c6ed4719867528dfb4ddd59d": {
          "model_module": "@jupyter-widgets/controls",
          "model_name": "HTMLModel",
          "model_module_version": "1.5.0",
          "state": {
            "_dom_classes": [],
            "_model_module": "@jupyter-widgets/controls",
            "_model_module_version": "1.5.0",
            "_model_name": "HTMLModel",
            "_view_count": null,
            "_view_module": "@jupyter-widgets/controls",
            "_view_module_version": "1.5.0",
            "_view_name": "HTMLView",
            "description": "",
            "description_tooltip": null,
            "layout": "IPY_MODEL_e325a9d4cb544d30988ac6b52a6bec41",
            "placeholder": "​",
            "style": "IPY_MODEL_b8956a6f52c345fca87a126c62882e5f",
            "value": " 232k/232k [00:00&lt;00:00, 2.90MB/s]"
          }
        },
        "ea5622a72c4b448b9da6c5e68421e63f": {
          "model_module": "@jupyter-widgets/base",
          "model_name": "LayoutModel",
          "model_module_version": "1.2.0",
          "state": {
            "_model_module": "@jupyter-widgets/base",
            "_model_module_version": "1.2.0",
            "_model_name": "LayoutModel",
            "_view_count": null,
            "_view_module": "@jupyter-widgets/base",
            "_view_module_version": "1.2.0",
            "_view_name": "LayoutView",
            "align_content": null,
            "align_items": null,
            "align_self": null,
            "border": null,
            "bottom": null,
            "display": null,
            "flex": null,
            "flex_flow": null,
            "grid_area": null,
            "grid_auto_columns": null,
            "grid_auto_flow": null,
            "grid_auto_rows": null,
            "grid_column": null,
            "grid_gap": null,
            "grid_row": null,
            "grid_template_areas": null,
            "grid_template_columns": null,
            "grid_template_rows": null,
            "height": null,
            "justify_content": null,
            "justify_items": null,
            "left": null,
            "margin": null,
            "max_height": null,
            "max_width": null,
            "min_height": null,
            "min_width": null,
            "object_fit": null,
            "object_position": null,
            "order": null,
            "overflow": null,
            "overflow_x": null,
            "overflow_y": null,
            "padding": null,
            "right": null,
            "top": null,
            "visibility": null,
            "width": null
          }
        },
        "f757cfd812ed457f97e6b2236b09e76e": {
          "model_module": "@jupyter-widgets/base",
          "model_name": "LayoutModel",
          "model_module_version": "1.2.0",
          "state": {
            "_model_module": "@jupyter-widgets/base",
            "_model_module_version": "1.2.0",
            "_model_name": "LayoutModel",
            "_view_count": null,
            "_view_module": "@jupyter-widgets/base",
            "_view_module_version": "1.2.0",
            "_view_name": "LayoutView",
            "align_content": null,
            "align_items": null,
            "align_self": null,
            "border": null,
            "bottom": null,
            "display": null,
            "flex": null,
            "flex_flow": null,
            "grid_area": null,
            "grid_auto_columns": null,
            "grid_auto_flow": null,
            "grid_auto_rows": null,
            "grid_column": null,
            "grid_gap": null,
            "grid_row": null,
            "grid_template_areas": null,
            "grid_template_columns": null,
            "grid_template_rows": null,
            "height": null,
            "justify_content": null,
            "justify_items": null,
            "left": null,
            "margin": null,
            "max_height": null,
            "max_width": null,
            "min_height": null,
            "min_width": null,
            "object_fit": null,
            "object_position": null,
            "order": null,
            "overflow": null,
            "overflow_x": null,
            "overflow_y": null,
            "padding": null,
            "right": null,
            "top": null,
            "visibility": null,
            "width": null
          }
        },
        "5a408a6db1f84aea829060de6d300149": {
          "model_module": "@jupyter-widgets/controls",
          "model_name": "DescriptionStyleModel",
          "model_module_version": "1.5.0",
          "state": {
            "_model_module": "@jupyter-widgets/controls",
            "_model_module_version": "1.5.0",
            "_model_name": "DescriptionStyleModel",
            "_view_count": null,
            "_view_module": "@jupyter-widgets/base",
            "_view_module_version": "1.2.0",
            "_view_name": "StyleView",
            "description_width": ""
          }
        },
        "1ff6d92152b544bdb748f275550595b1": {
          "model_module": "@jupyter-widgets/base",
          "model_name": "LayoutModel",
          "model_module_version": "1.2.0",
          "state": {
            "_model_module": "@jupyter-widgets/base",
            "_model_module_version": "1.2.0",
            "_model_name": "LayoutModel",
            "_view_count": null,
            "_view_module": "@jupyter-widgets/base",
            "_view_module_version": "1.2.0",
            "_view_name": "LayoutView",
            "align_content": null,
            "align_items": null,
            "align_self": null,
            "border": null,
            "bottom": null,
            "display": null,
            "flex": null,
            "flex_flow": null,
            "grid_area": null,
            "grid_auto_columns": null,
            "grid_auto_flow": null,
            "grid_auto_rows": null,
            "grid_column": null,
            "grid_gap": null,
            "grid_row": null,
            "grid_template_areas": null,
            "grid_template_columns": null,
            "grid_template_rows": null,
            "height": null,
            "justify_content": null,
            "justify_items": null,
            "left": null,
            "margin": null,
            "max_height": null,
            "max_width": null,
            "min_height": null,
            "min_width": null,
            "object_fit": null,
            "object_position": null,
            "order": null,
            "overflow": null,
            "overflow_x": null,
            "overflow_y": null,
            "padding": null,
            "right": null,
            "top": null,
            "visibility": null,
            "width": null
          }
        },
        "e6640e1d86074a33b6ddf28102228812": {
          "model_module": "@jupyter-widgets/controls",
          "model_name": "ProgressStyleModel",
          "model_module_version": "1.5.0",
          "state": {
            "_model_module": "@jupyter-widgets/controls",
            "_model_module_version": "1.5.0",
            "_model_name": "ProgressStyleModel",
            "_view_count": null,
            "_view_module": "@jupyter-widgets/base",
            "_view_module_version": "1.2.0",
            "_view_name": "StyleView",
            "bar_color": null,
            "description_width": ""
          }
        },
        "e325a9d4cb544d30988ac6b52a6bec41": {
          "model_module": "@jupyter-widgets/base",
          "model_name": "LayoutModel",
          "model_module_version": "1.2.0",
          "state": {
            "_model_module": "@jupyter-widgets/base",
            "_model_module_version": "1.2.0",
            "_model_name": "LayoutModel",
            "_view_count": null,
            "_view_module": "@jupyter-widgets/base",
            "_view_module_version": "1.2.0",
            "_view_name": "LayoutView",
            "align_content": null,
            "align_items": null,
            "align_self": null,
            "border": null,
            "bottom": null,
            "display": null,
            "flex": null,
            "flex_flow": null,
            "grid_area": null,
            "grid_auto_columns": null,
            "grid_auto_flow": null,
            "grid_auto_rows": null,
            "grid_column": null,
            "grid_gap": null,
            "grid_row": null,
            "grid_template_areas": null,
            "grid_template_columns": null,
            "grid_template_rows": null,
            "height": null,
            "justify_content": null,
            "justify_items": null,
            "left": null,
            "margin": null,
            "max_height": null,
            "max_width": null,
            "min_height": null,
            "min_width": null,
            "object_fit": null,
            "object_position": null,
            "order": null,
            "overflow": null,
            "overflow_x": null,
            "overflow_y": null,
            "padding": null,
            "right": null,
            "top": null,
            "visibility": null,
            "width": null
          }
        },
        "b8956a6f52c345fca87a126c62882e5f": {
          "model_module": "@jupyter-widgets/controls",
          "model_name": "DescriptionStyleModel",
          "model_module_version": "1.5.0",
          "state": {
            "_model_module": "@jupyter-widgets/controls",
            "_model_module_version": "1.5.0",
            "_model_name": "DescriptionStyleModel",
            "_view_count": null,
            "_view_module": "@jupyter-widgets/base",
            "_view_module_version": "1.2.0",
            "_view_name": "StyleView",
            "description_width": ""
          }
        },
        "0945b67ee35d4be8ad6f32df53a92ed3": {
          "model_module": "@jupyter-widgets/controls",
          "model_name": "HBoxModel",
          "model_module_version": "1.5.0",
          "state": {
            "_dom_classes": [],
            "_model_module": "@jupyter-widgets/controls",
            "_model_module_version": "1.5.0",
            "_model_name": "HBoxModel",
            "_view_count": null,
            "_view_module": "@jupyter-widgets/controls",
            "_view_module_version": "1.5.0",
            "_view_name": "HBoxView",
            "box_style": "",
            "children": [
              "IPY_MODEL_c93c909095744681ad3f6e9390432e58",
              "IPY_MODEL_2d21203211244df4869c250dc9f1e749",
              "IPY_MODEL_55dcedcbfb5e45159ead063e525bbe70"
            ],
            "layout": "IPY_MODEL_b6733468100a49bda3650a9eff069016"
          }
        },
        "c93c909095744681ad3f6e9390432e58": {
          "model_module": "@jupyter-widgets/controls",
          "model_name": "HTMLModel",
          "model_module_version": "1.5.0",
          "state": {
            "_dom_classes": [],
            "_model_module": "@jupyter-widgets/controls",
            "_model_module_version": "1.5.0",
            "_model_name": "HTMLModel",
            "_view_count": null,
            "_view_module": "@jupyter-widgets/controls",
            "_view_module_version": "1.5.0",
            "_view_name": "HTMLView",
            "description": "",
            "description_tooltip": null,
            "layout": "IPY_MODEL_ad7027d54ed54172ac8a0a0b889055f5",
            "placeholder": "​",
            "style": "IPY_MODEL_b5a1bf3a89ca4e60844aaf416dc1c0e9",
            "value": "Downloading (…)/main/tokenizer.json: 100%"
          }
        },
        "2d21203211244df4869c250dc9f1e749": {
          "model_module": "@jupyter-widgets/controls",
          "model_name": "FloatProgressModel",
          "model_module_version": "1.5.0",
          "state": {
            "_dom_classes": [],
            "_model_module": "@jupyter-widgets/controls",
            "_model_module_version": "1.5.0",
            "_model_name": "FloatProgressModel",
            "_view_count": null,
            "_view_module": "@jupyter-widgets/controls",
            "_view_module_version": "1.5.0",
            "_view_name": "ProgressView",
            "bar_style": "success",
            "description": "",
            "description_tooltip": null,
            "layout": "IPY_MODEL_455bdc19c1a94c9fa0411975b38da732",
            "max": 466062,
            "min": 0,
            "orientation": "horizontal",
            "style": "IPY_MODEL_b6168f72221a49fbbe01cb6d1b9debd1",
            "value": 466062
          }
        },
        "55dcedcbfb5e45159ead063e525bbe70": {
          "model_module": "@jupyter-widgets/controls",
          "model_name": "HTMLModel",
          "model_module_version": "1.5.0",
          "state": {
            "_dom_classes": [],
            "_model_module": "@jupyter-widgets/controls",
            "_model_module_version": "1.5.0",
            "_model_name": "HTMLModel",
            "_view_count": null,
            "_view_module": "@jupyter-widgets/controls",
            "_view_module_version": "1.5.0",
            "_view_name": "HTMLView",
            "description": "",
            "description_tooltip": null,
            "layout": "IPY_MODEL_d2aab37b25b94340901b12189cb01d6e",
            "placeholder": "​",
            "style": "IPY_MODEL_29f5ef0738a8404eb6e0ea974b2c69fa",
            "value": " 466k/466k [00:00&lt;00:00, 4.65MB/s]"
          }
        },
        "b6733468100a49bda3650a9eff069016": {
          "model_module": "@jupyter-widgets/base",
          "model_name": "LayoutModel",
          "model_module_version": "1.2.0",
          "state": {
            "_model_module": "@jupyter-widgets/base",
            "_model_module_version": "1.2.0",
            "_model_name": "LayoutModel",
            "_view_count": null,
            "_view_module": "@jupyter-widgets/base",
            "_view_module_version": "1.2.0",
            "_view_name": "LayoutView",
            "align_content": null,
            "align_items": null,
            "align_self": null,
            "border": null,
            "bottom": null,
            "display": null,
            "flex": null,
            "flex_flow": null,
            "grid_area": null,
            "grid_auto_columns": null,
            "grid_auto_flow": null,
            "grid_auto_rows": null,
            "grid_column": null,
            "grid_gap": null,
            "grid_row": null,
            "grid_template_areas": null,
            "grid_template_columns": null,
            "grid_template_rows": null,
            "height": null,
            "justify_content": null,
            "justify_items": null,
            "left": null,
            "margin": null,
            "max_height": null,
            "max_width": null,
            "min_height": null,
            "min_width": null,
            "object_fit": null,
            "object_position": null,
            "order": null,
            "overflow": null,
            "overflow_x": null,
            "overflow_y": null,
            "padding": null,
            "right": null,
            "top": null,
            "visibility": null,
            "width": null
          }
        },
        "ad7027d54ed54172ac8a0a0b889055f5": {
          "model_module": "@jupyter-widgets/base",
          "model_name": "LayoutModel",
          "model_module_version": "1.2.0",
          "state": {
            "_model_module": "@jupyter-widgets/base",
            "_model_module_version": "1.2.0",
            "_model_name": "LayoutModel",
            "_view_count": null,
            "_view_module": "@jupyter-widgets/base",
            "_view_module_version": "1.2.0",
            "_view_name": "LayoutView",
            "align_content": null,
            "align_items": null,
            "align_self": null,
            "border": null,
            "bottom": null,
            "display": null,
            "flex": null,
            "flex_flow": null,
            "grid_area": null,
            "grid_auto_columns": null,
            "grid_auto_flow": null,
            "grid_auto_rows": null,
            "grid_column": null,
            "grid_gap": null,
            "grid_row": null,
            "grid_template_areas": null,
            "grid_template_columns": null,
            "grid_template_rows": null,
            "height": null,
            "justify_content": null,
            "justify_items": null,
            "left": null,
            "margin": null,
            "max_height": null,
            "max_width": null,
            "min_height": null,
            "min_width": null,
            "object_fit": null,
            "object_position": null,
            "order": null,
            "overflow": null,
            "overflow_x": null,
            "overflow_y": null,
            "padding": null,
            "right": null,
            "top": null,
            "visibility": null,
            "width": null
          }
        },
        "b5a1bf3a89ca4e60844aaf416dc1c0e9": {
          "model_module": "@jupyter-widgets/controls",
          "model_name": "DescriptionStyleModel",
          "model_module_version": "1.5.0",
          "state": {
            "_model_module": "@jupyter-widgets/controls",
            "_model_module_version": "1.5.0",
            "_model_name": "DescriptionStyleModel",
            "_view_count": null,
            "_view_module": "@jupyter-widgets/base",
            "_view_module_version": "1.2.0",
            "_view_name": "StyleView",
            "description_width": ""
          }
        },
        "455bdc19c1a94c9fa0411975b38da732": {
          "model_module": "@jupyter-widgets/base",
          "model_name": "LayoutModel",
          "model_module_version": "1.2.0",
          "state": {
            "_model_module": "@jupyter-widgets/base",
            "_model_module_version": "1.2.0",
            "_model_name": "LayoutModel",
            "_view_count": null,
            "_view_module": "@jupyter-widgets/base",
            "_view_module_version": "1.2.0",
            "_view_name": "LayoutView",
            "align_content": null,
            "align_items": null,
            "align_self": null,
            "border": null,
            "bottom": null,
            "display": null,
            "flex": null,
            "flex_flow": null,
            "grid_area": null,
            "grid_auto_columns": null,
            "grid_auto_flow": null,
            "grid_auto_rows": null,
            "grid_column": null,
            "grid_gap": null,
            "grid_row": null,
            "grid_template_areas": null,
            "grid_template_columns": null,
            "grid_template_rows": null,
            "height": null,
            "justify_content": null,
            "justify_items": null,
            "left": null,
            "margin": null,
            "max_height": null,
            "max_width": null,
            "min_height": null,
            "min_width": null,
            "object_fit": null,
            "object_position": null,
            "order": null,
            "overflow": null,
            "overflow_x": null,
            "overflow_y": null,
            "padding": null,
            "right": null,
            "top": null,
            "visibility": null,
            "width": null
          }
        },
        "b6168f72221a49fbbe01cb6d1b9debd1": {
          "model_module": "@jupyter-widgets/controls",
          "model_name": "ProgressStyleModel",
          "model_module_version": "1.5.0",
          "state": {
            "_model_module": "@jupyter-widgets/controls",
            "_model_module_version": "1.5.0",
            "_model_name": "ProgressStyleModel",
            "_view_count": null,
            "_view_module": "@jupyter-widgets/base",
            "_view_module_version": "1.2.0",
            "_view_name": "StyleView",
            "bar_color": null,
            "description_width": ""
          }
        },
        "d2aab37b25b94340901b12189cb01d6e": {
          "model_module": "@jupyter-widgets/base",
          "model_name": "LayoutModel",
          "model_module_version": "1.2.0",
          "state": {
            "_model_module": "@jupyter-widgets/base",
            "_model_module_version": "1.2.0",
            "_model_name": "LayoutModel",
            "_view_count": null,
            "_view_module": "@jupyter-widgets/base",
            "_view_module_version": "1.2.0",
            "_view_name": "LayoutView",
            "align_content": null,
            "align_items": null,
            "align_self": null,
            "border": null,
            "bottom": null,
            "display": null,
            "flex": null,
            "flex_flow": null,
            "grid_area": null,
            "grid_auto_columns": null,
            "grid_auto_flow": null,
            "grid_auto_rows": null,
            "grid_column": null,
            "grid_gap": null,
            "grid_row": null,
            "grid_template_areas": null,
            "grid_template_columns": null,
            "grid_template_rows": null,
            "height": null,
            "justify_content": null,
            "justify_items": null,
            "left": null,
            "margin": null,
            "max_height": null,
            "max_width": null,
            "min_height": null,
            "min_width": null,
            "object_fit": null,
            "object_position": null,
            "order": null,
            "overflow": null,
            "overflow_x": null,
            "overflow_y": null,
            "padding": null,
            "right": null,
            "top": null,
            "visibility": null,
            "width": null
          }
        },
        "29f5ef0738a8404eb6e0ea974b2c69fa": {
          "model_module": "@jupyter-widgets/controls",
          "model_name": "DescriptionStyleModel",
          "model_module_version": "1.5.0",
          "state": {
            "_model_module": "@jupyter-widgets/controls",
            "_model_module_version": "1.5.0",
            "_model_name": "DescriptionStyleModel",
            "_view_count": null,
            "_view_module": "@jupyter-widgets/base",
            "_view_module_version": "1.2.0",
            "_view_name": "StyleView",
            "description_width": ""
          }
        },
        "5abb27adcaa3438ca8bed1288da042c7": {
          "model_module": "@jupyter-widgets/controls",
          "model_name": "HBoxModel",
          "model_module_version": "1.5.0",
          "state": {
            "_dom_classes": [],
            "_model_module": "@jupyter-widgets/controls",
            "_model_module_version": "1.5.0",
            "_model_name": "HBoxModel",
            "_view_count": null,
            "_view_module": "@jupyter-widgets/controls",
            "_view_module_version": "1.5.0",
            "_view_name": "HBoxView",
            "box_style": "",
            "children": [
              "IPY_MODEL_4e6434001fc14e5ba95d8169a822e0e8",
              "IPY_MODEL_e376e85ccd3946bc8bb2105c4db1cf42",
              "IPY_MODEL_e207705743854eb6a487cd5ff0358b5c"
            ],
            "layout": "IPY_MODEL_242cc0cae8504221aa82583d41265be0"
          }
        },
        "4e6434001fc14e5ba95d8169a822e0e8": {
          "model_module": "@jupyter-widgets/controls",
          "model_name": "HTMLModel",
          "model_module_version": "1.5.0",
          "state": {
            "_dom_classes": [],
            "_model_module": "@jupyter-widgets/controls",
            "_model_module_version": "1.5.0",
            "_model_name": "HTMLModel",
            "_view_count": null,
            "_view_module": "@jupyter-widgets/controls",
            "_view_module_version": "1.5.0",
            "_view_name": "HTMLView",
            "description": "",
            "description_tooltip": null,
            "layout": "IPY_MODEL_97905e1354f34f028a68eba977a9569d",
            "placeholder": "​",
            "style": "IPY_MODEL_f03af98954844938828b7470eede2296",
            "value": "Map: 100%"
          }
        },
        "e376e85ccd3946bc8bb2105c4db1cf42": {
          "model_module": "@jupyter-widgets/controls",
          "model_name": "FloatProgressModel",
          "model_module_version": "1.5.0",
          "state": {
            "_dom_classes": [],
            "_model_module": "@jupyter-widgets/controls",
            "_model_module_version": "1.5.0",
            "_model_name": "FloatProgressModel",
            "_view_count": null,
            "_view_module": "@jupyter-widgets/controls",
            "_view_module_version": "1.5.0",
            "_view_name": "ProgressView",
            "bar_style": "",
            "description": "",
            "description_tooltip": null,
            "layout": "IPY_MODEL_be069f8c56f34f51ab0a8db5b613f38b",
            "max": 10988,
            "min": 0,
            "orientation": "horizontal",
            "style": "IPY_MODEL_3d531d168f054e2fb36e403d733a367a",
            "value": 10988
          }
        },
        "e207705743854eb6a487cd5ff0358b5c": {
          "model_module": "@jupyter-widgets/controls",
          "model_name": "HTMLModel",
          "model_module_version": "1.5.0",
          "state": {
            "_dom_classes": [],
            "_model_module": "@jupyter-widgets/controls",
            "_model_module_version": "1.5.0",
            "_model_name": "HTMLModel",
            "_view_count": null,
            "_view_module": "@jupyter-widgets/controls",
            "_view_module_version": "1.5.0",
            "_view_name": "HTMLView",
            "description": "",
            "description_tooltip": null,
            "layout": "IPY_MODEL_e18b4fe8fc7541b3a2813a85bc301288",
            "placeholder": "​",
            "style": "IPY_MODEL_ece5a96efc7945519ada45aeb85ca35a",
            "value": " 10988/10988 [00:11&lt;00:00, 1160.54 examples/s]"
          }
        },
        "242cc0cae8504221aa82583d41265be0": {
          "model_module": "@jupyter-widgets/base",
          "model_name": "LayoutModel",
          "model_module_version": "1.2.0",
          "state": {
            "_model_module": "@jupyter-widgets/base",
            "_model_module_version": "1.2.0",
            "_model_name": "LayoutModel",
            "_view_count": null,
            "_view_module": "@jupyter-widgets/base",
            "_view_module_version": "1.2.0",
            "_view_name": "LayoutView",
            "align_content": null,
            "align_items": null,
            "align_self": null,
            "border": null,
            "bottom": null,
            "display": null,
            "flex": null,
            "flex_flow": null,
            "grid_area": null,
            "grid_auto_columns": null,
            "grid_auto_flow": null,
            "grid_auto_rows": null,
            "grid_column": null,
            "grid_gap": null,
            "grid_row": null,
            "grid_template_areas": null,
            "grid_template_columns": null,
            "grid_template_rows": null,
            "height": null,
            "justify_content": null,
            "justify_items": null,
            "left": null,
            "margin": null,
            "max_height": null,
            "max_width": null,
            "min_height": null,
            "min_width": null,
            "object_fit": null,
            "object_position": null,
            "order": null,
            "overflow": null,
            "overflow_x": null,
            "overflow_y": null,
            "padding": null,
            "right": null,
            "top": null,
            "visibility": "hidden",
            "width": null
          }
        },
        "97905e1354f34f028a68eba977a9569d": {
          "model_module": "@jupyter-widgets/base",
          "model_name": "LayoutModel",
          "model_module_version": "1.2.0",
          "state": {
            "_model_module": "@jupyter-widgets/base",
            "_model_module_version": "1.2.0",
            "_model_name": "LayoutModel",
            "_view_count": null,
            "_view_module": "@jupyter-widgets/base",
            "_view_module_version": "1.2.0",
            "_view_name": "LayoutView",
            "align_content": null,
            "align_items": null,
            "align_self": null,
            "border": null,
            "bottom": null,
            "display": null,
            "flex": null,
            "flex_flow": null,
            "grid_area": null,
            "grid_auto_columns": null,
            "grid_auto_flow": null,
            "grid_auto_rows": null,
            "grid_column": null,
            "grid_gap": null,
            "grid_row": null,
            "grid_template_areas": null,
            "grid_template_columns": null,
            "grid_template_rows": null,
            "height": null,
            "justify_content": null,
            "justify_items": null,
            "left": null,
            "margin": null,
            "max_height": null,
            "max_width": null,
            "min_height": null,
            "min_width": null,
            "object_fit": null,
            "object_position": null,
            "order": null,
            "overflow": null,
            "overflow_x": null,
            "overflow_y": null,
            "padding": null,
            "right": null,
            "top": null,
            "visibility": null,
            "width": null
          }
        },
        "f03af98954844938828b7470eede2296": {
          "model_module": "@jupyter-widgets/controls",
          "model_name": "DescriptionStyleModel",
          "model_module_version": "1.5.0",
          "state": {
            "_model_module": "@jupyter-widgets/controls",
            "_model_module_version": "1.5.0",
            "_model_name": "DescriptionStyleModel",
            "_view_count": null,
            "_view_module": "@jupyter-widgets/base",
            "_view_module_version": "1.2.0",
            "_view_name": "StyleView",
            "description_width": ""
          }
        },
        "be069f8c56f34f51ab0a8db5b613f38b": {
          "model_module": "@jupyter-widgets/base",
          "model_name": "LayoutModel",
          "model_module_version": "1.2.0",
          "state": {
            "_model_module": "@jupyter-widgets/base",
            "_model_module_version": "1.2.0",
            "_model_name": "LayoutModel",
            "_view_count": null,
            "_view_module": "@jupyter-widgets/base",
            "_view_module_version": "1.2.0",
            "_view_name": "LayoutView",
            "align_content": null,
            "align_items": null,
            "align_self": null,
            "border": null,
            "bottom": null,
            "display": null,
            "flex": null,
            "flex_flow": null,
            "grid_area": null,
            "grid_auto_columns": null,
            "grid_auto_flow": null,
            "grid_auto_rows": null,
            "grid_column": null,
            "grid_gap": null,
            "grid_row": null,
            "grid_template_areas": null,
            "grid_template_columns": null,
            "grid_template_rows": null,
            "height": null,
            "justify_content": null,
            "justify_items": null,
            "left": null,
            "margin": null,
            "max_height": null,
            "max_width": null,
            "min_height": null,
            "min_width": null,
            "object_fit": null,
            "object_position": null,
            "order": null,
            "overflow": null,
            "overflow_x": null,
            "overflow_y": null,
            "padding": null,
            "right": null,
            "top": null,
            "visibility": null,
            "width": null
          }
        },
        "3d531d168f054e2fb36e403d733a367a": {
          "model_module": "@jupyter-widgets/controls",
          "model_name": "ProgressStyleModel",
          "model_module_version": "1.5.0",
          "state": {
            "_model_module": "@jupyter-widgets/controls",
            "_model_module_version": "1.5.0",
            "_model_name": "ProgressStyleModel",
            "_view_count": null,
            "_view_module": "@jupyter-widgets/base",
            "_view_module_version": "1.2.0",
            "_view_name": "StyleView",
            "bar_color": null,
            "description_width": ""
          }
        },
        "e18b4fe8fc7541b3a2813a85bc301288": {
          "model_module": "@jupyter-widgets/base",
          "model_name": "LayoutModel",
          "model_module_version": "1.2.0",
          "state": {
            "_model_module": "@jupyter-widgets/base",
            "_model_module_version": "1.2.0",
            "_model_name": "LayoutModel",
            "_view_count": null,
            "_view_module": "@jupyter-widgets/base",
            "_view_module_version": "1.2.0",
            "_view_name": "LayoutView",
            "align_content": null,
            "align_items": null,
            "align_self": null,
            "border": null,
            "bottom": null,
            "display": null,
            "flex": null,
            "flex_flow": null,
            "grid_area": null,
            "grid_auto_columns": null,
            "grid_auto_flow": null,
            "grid_auto_rows": null,
            "grid_column": null,
            "grid_gap": null,
            "grid_row": null,
            "grid_template_areas": null,
            "grid_template_columns": null,
            "grid_template_rows": null,
            "height": null,
            "justify_content": null,
            "justify_items": null,
            "left": null,
            "margin": null,
            "max_height": null,
            "max_width": null,
            "min_height": null,
            "min_width": null,
            "object_fit": null,
            "object_position": null,
            "order": null,
            "overflow": null,
            "overflow_x": null,
            "overflow_y": null,
            "padding": null,
            "right": null,
            "top": null,
            "visibility": null,
            "width": null
          }
        },
        "ece5a96efc7945519ada45aeb85ca35a": {
          "model_module": "@jupyter-widgets/controls",
          "model_name": "DescriptionStyleModel",
          "model_module_version": "1.5.0",
          "state": {
            "_model_module": "@jupyter-widgets/controls",
            "_model_module_version": "1.5.0",
            "_model_name": "DescriptionStyleModel",
            "_view_count": null,
            "_view_module": "@jupyter-widgets/base",
            "_view_module_version": "1.2.0",
            "_view_name": "StyleView",
            "description_width": ""
          }
        },
        "d4c0e90718074c69a55af4907a0b9c0f": {
          "model_module": "@jupyter-widgets/controls",
          "model_name": "HBoxModel",
          "model_module_version": "1.5.0",
          "state": {
            "_dom_classes": [],
            "_model_module": "@jupyter-widgets/controls",
            "_model_module_version": "1.5.0",
            "_model_name": "HBoxModel",
            "_view_count": null,
            "_view_module": "@jupyter-widgets/controls",
            "_view_module_version": "1.5.0",
            "_view_name": "HBoxView",
            "box_style": "",
            "children": [
              "IPY_MODEL_0a84a43311f14e888d650ccaad172f05",
              "IPY_MODEL_0c850a546e044209877a3ecc8f32af73",
              "IPY_MODEL_f5304e4384a149ea8fe3d2ec480cdf4a"
            ],
            "layout": "IPY_MODEL_5be692ab17e94781be905761681d6bcf"
          }
        },
        "0a84a43311f14e888d650ccaad172f05": {
          "model_module": "@jupyter-widgets/controls",
          "model_name": "HTMLModel",
          "model_module_version": "1.5.0",
          "state": {
            "_dom_classes": [],
            "_model_module": "@jupyter-widgets/controls",
            "_model_module_version": "1.5.0",
            "_model_name": "HTMLModel",
            "_view_count": null,
            "_view_module": "@jupyter-widgets/controls",
            "_view_module_version": "1.5.0",
            "_view_name": "HTMLView",
            "description": "",
            "description_tooltip": null,
            "layout": "IPY_MODEL_802aa36bfa674f0f958ec768af2d149f",
            "placeholder": "​",
            "style": "IPY_MODEL_ac670cacbd4940698f46c157c79286d8",
            "value": "Map: 100%"
          }
        },
        "0c850a546e044209877a3ecc8f32af73": {
          "model_module": "@jupyter-widgets/controls",
          "model_name": "FloatProgressModel",
          "model_module_version": "1.5.0",
          "state": {
            "_dom_classes": [],
            "_model_module": "@jupyter-widgets/controls",
            "_model_module_version": "1.5.0",
            "_model_name": "FloatProgressModel",
            "_view_count": null,
            "_view_module": "@jupyter-widgets/controls",
            "_view_module_version": "1.5.0",
            "_view_name": "ProgressView",
            "bar_style": "",
            "description": "",
            "description_tooltip": null,
            "layout": "IPY_MODEL_393e5dbe8324412e82f9e6c1c657374a",
            "max": 2748,
            "min": 0,
            "orientation": "horizontal",
            "style": "IPY_MODEL_92235924cfd244349ac95f3712b56b06",
            "value": 2748
          }
        },
        "f5304e4384a149ea8fe3d2ec480cdf4a": {
          "model_module": "@jupyter-widgets/controls",
          "model_name": "HTMLModel",
          "model_module_version": "1.5.0",
          "state": {
            "_dom_classes": [],
            "_model_module": "@jupyter-widgets/controls",
            "_model_module_version": "1.5.0",
            "_model_name": "HTMLModel",
            "_view_count": null,
            "_view_module": "@jupyter-widgets/controls",
            "_view_module_version": "1.5.0",
            "_view_name": "HTMLView",
            "description": "",
            "description_tooltip": null,
            "layout": "IPY_MODEL_44502a5cf5d54a27aa40f87d2396844a",
            "placeholder": "​",
            "style": "IPY_MODEL_eff34a9285b54ce18e6a3a9466ae4f51",
            "value": " 2748/2748 [00:02&lt;00:00, 1306.34 examples/s]"
          }
        },
        "5be692ab17e94781be905761681d6bcf": {
          "model_module": "@jupyter-widgets/base",
          "model_name": "LayoutModel",
          "model_module_version": "1.2.0",
          "state": {
            "_model_module": "@jupyter-widgets/base",
            "_model_module_version": "1.2.0",
            "_model_name": "LayoutModel",
            "_view_count": null,
            "_view_module": "@jupyter-widgets/base",
            "_view_module_version": "1.2.0",
            "_view_name": "LayoutView",
            "align_content": null,
            "align_items": null,
            "align_self": null,
            "border": null,
            "bottom": null,
            "display": null,
            "flex": null,
            "flex_flow": null,
            "grid_area": null,
            "grid_auto_columns": null,
            "grid_auto_flow": null,
            "grid_auto_rows": null,
            "grid_column": null,
            "grid_gap": null,
            "grid_row": null,
            "grid_template_areas": null,
            "grid_template_columns": null,
            "grid_template_rows": null,
            "height": null,
            "justify_content": null,
            "justify_items": null,
            "left": null,
            "margin": null,
            "max_height": null,
            "max_width": null,
            "min_height": null,
            "min_width": null,
            "object_fit": null,
            "object_position": null,
            "order": null,
            "overflow": null,
            "overflow_x": null,
            "overflow_y": null,
            "padding": null,
            "right": null,
            "top": null,
            "visibility": "hidden",
            "width": null
          }
        },
        "802aa36bfa674f0f958ec768af2d149f": {
          "model_module": "@jupyter-widgets/base",
          "model_name": "LayoutModel",
          "model_module_version": "1.2.0",
          "state": {
            "_model_module": "@jupyter-widgets/base",
            "_model_module_version": "1.2.0",
            "_model_name": "LayoutModel",
            "_view_count": null,
            "_view_module": "@jupyter-widgets/base",
            "_view_module_version": "1.2.0",
            "_view_name": "LayoutView",
            "align_content": null,
            "align_items": null,
            "align_self": null,
            "border": null,
            "bottom": null,
            "display": null,
            "flex": null,
            "flex_flow": null,
            "grid_area": null,
            "grid_auto_columns": null,
            "grid_auto_flow": null,
            "grid_auto_rows": null,
            "grid_column": null,
            "grid_gap": null,
            "grid_row": null,
            "grid_template_areas": null,
            "grid_template_columns": null,
            "grid_template_rows": null,
            "height": null,
            "justify_content": null,
            "justify_items": null,
            "left": null,
            "margin": null,
            "max_height": null,
            "max_width": null,
            "min_height": null,
            "min_width": null,
            "object_fit": null,
            "object_position": null,
            "order": null,
            "overflow": null,
            "overflow_x": null,
            "overflow_y": null,
            "padding": null,
            "right": null,
            "top": null,
            "visibility": null,
            "width": null
          }
        },
        "ac670cacbd4940698f46c157c79286d8": {
          "model_module": "@jupyter-widgets/controls",
          "model_name": "DescriptionStyleModel",
          "model_module_version": "1.5.0",
          "state": {
            "_model_module": "@jupyter-widgets/controls",
            "_model_module_version": "1.5.0",
            "_model_name": "DescriptionStyleModel",
            "_view_count": null,
            "_view_module": "@jupyter-widgets/base",
            "_view_module_version": "1.2.0",
            "_view_name": "StyleView",
            "description_width": ""
          }
        },
        "393e5dbe8324412e82f9e6c1c657374a": {
          "model_module": "@jupyter-widgets/base",
          "model_name": "LayoutModel",
          "model_module_version": "1.2.0",
          "state": {
            "_model_module": "@jupyter-widgets/base",
            "_model_module_version": "1.2.0",
            "_model_name": "LayoutModel",
            "_view_count": null,
            "_view_module": "@jupyter-widgets/base",
            "_view_module_version": "1.2.0",
            "_view_name": "LayoutView",
            "align_content": null,
            "align_items": null,
            "align_self": null,
            "border": null,
            "bottom": null,
            "display": null,
            "flex": null,
            "flex_flow": null,
            "grid_area": null,
            "grid_auto_columns": null,
            "grid_auto_flow": null,
            "grid_auto_rows": null,
            "grid_column": null,
            "grid_gap": null,
            "grid_row": null,
            "grid_template_areas": null,
            "grid_template_columns": null,
            "grid_template_rows": null,
            "height": null,
            "justify_content": null,
            "justify_items": null,
            "left": null,
            "margin": null,
            "max_height": null,
            "max_width": null,
            "min_height": null,
            "min_width": null,
            "object_fit": null,
            "object_position": null,
            "order": null,
            "overflow": null,
            "overflow_x": null,
            "overflow_y": null,
            "padding": null,
            "right": null,
            "top": null,
            "visibility": null,
            "width": null
          }
        },
        "92235924cfd244349ac95f3712b56b06": {
          "model_module": "@jupyter-widgets/controls",
          "model_name": "ProgressStyleModel",
          "model_module_version": "1.5.0",
          "state": {
            "_model_module": "@jupyter-widgets/controls",
            "_model_module_version": "1.5.0",
            "_model_name": "ProgressStyleModel",
            "_view_count": null,
            "_view_module": "@jupyter-widgets/base",
            "_view_module_version": "1.2.0",
            "_view_name": "StyleView",
            "bar_color": null,
            "description_width": ""
          }
        },
        "44502a5cf5d54a27aa40f87d2396844a": {
          "model_module": "@jupyter-widgets/base",
          "model_name": "LayoutModel",
          "model_module_version": "1.2.0",
          "state": {
            "_model_module": "@jupyter-widgets/base",
            "_model_module_version": "1.2.0",
            "_model_name": "LayoutModel",
            "_view_count": null,
            "_view_module": "@jupyter-widgets/base",
            "_view_module_version": "1.2.0",
            "_view_name": "LayoutView",
            "align_content": null,
            "align_items": null,
            "align_self": null,
            "border": null,
            "bottom": null,
            "display": null,
            "flex": null,
            "flex_flow": null,
            "grid_area": null,
            "grid_auto_columns": null,
            "grid_auto_flow": null,
            "grid_auto_rows": null,
            "grid_column": null,
            "grid_gap": null,
            "grid_row": null,
            "grid_template_areas": null,
            "grid_template_columns": null,
            "grid_template_rows": null,
            "height": null,
            "justify_content": null,
            "justify_items": null,
            "left": null,
            "margin": null,
            "max_height": null,
            "max_width": null,
            "min_height": null,
            "min_width": null,
            "object_fit": null,
            "object_position": null,
            "order": null,
            "overflow": null,
            "overflow_x": null,
            "overflow_y": null,
            "padding": null,
            "right": null,
            "top": null,
            "visibility": null,
            "width": null
          }
        },
        "eff34a9285b54ce18e6a3a9466ae4f51": {
          "model_module": "@jupyter-widgets/controls",
          "model_name": "DescriptionStyleModel",
          "model_module_version": "1.5.0",
          "state": {
            "_model_module": "@jupyter-widgets/controls",
            "_model_module_version": "1.5.0",
            "_model_name": "DescriptionStyleModel",
            "_view_count": null,
            "_view_module": "@jupyter-widgets/base",
            "_view_module_version": "1.2.0",
            "_view_name": "StyleView",
            "description_width": ""
          }
        }
      }
    }
  },
  "nbformat": 4,
  "nbformat_minor": 0
}